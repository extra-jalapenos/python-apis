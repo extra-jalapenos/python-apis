{
 "cells": [
  {
   "cell_type": "markdown",
   "id": "bde4dda3-2de5-4fe0-baf1-51b0a8e3c6d1",
   "metadata": {},
   "source": [
    "# APIs and JSON"
   ]
  },
  {
   "cell_type": "markdown",
   "id": "f8d39ff1-490e-4110-9ff1-8880fdba895c",
   "metadata": {
    "tags": []
   },
   "source": [
    "### Homework"
   ]
  },
  {
   "cell_type": "markdown",
   "id": "e5aac0b8-67cf-496d-8b82-d7a2910ef36b",
   "metadata": {},
   "source": [
    "Before you begin, remember to import the necessary libraries."
   ]
  },
  {
   "cell_type": "code",
   "execution_count": null,
   "id": "33de4fa0-4c6b-412e-9d31-b60b777ec39a",
   "metadata": {},
   "outputs": [],
   "source": [
    "import numpy as np\n",
    "import pandas as pd\n",
    "\n",
    "%matplotlib inline\n",
    "import matplotlib\n",
    "import matplotlib.pyplot as plt\n",
    "import seaborn as sns\n",
    "\n",
    "import requests"
   ]
  },
  {
   "cell_type": "markdown",
   "id": "a6be9786-ed96-4ab6-bf58-711b6fcef982",
   "metadata": {},
   "source": [
    "#### Standard Exercises"
   ]
  },
  {
   "cell_type": "markdown",
   "id": "46ff93bc-badf-4ca9-a22f-0695e4ea5ea7",
   "metadata": {},
   "source": [
    "In this exercise, you will use the [Makeup API](https://makeup-api.herokuapp.com/) from the [website](https://mixedanalytics.com/blog/list-actually-free-open-no-auth-needed-apis/) we saw in class to retrieve and analyse the [data related to the Maybelline brand](https://makeup-api.herokuapp.com/api/v1/products.json?brand=maybelline)."
   ]
  },
  {
   "cell_type": "markdown",
   "id": "1e9b46db-0f67-4b99-940e-38a8eba9498d",
   "metadata": {},
   "source": [
    "1. Save the sample URL / endpoint as a string to an object called `url` and, unig the `get()` function from the `requests` library, make an HTTP request and save it to a new object named `mkp`."
   ]
  },
  {
   "cell_type": "code",
   "execution_count": null,
   "id": "ad08b583-bea2-4412-8b26-f3b2602e0e97",
   "metadata": {},
   "outputs": [],
   "source": []
  },
  {
   "cell_type": "markdown",
   "id": "f489e47a-19a6-4e74-bbdf-391fefd2b230",
   "metadata": {},
   "source": [
    "2. Check that the status of the request from the previous point was successful *(hint: 200 = OK)*."
   ]
  },
  {
   "cell_type": "code",
   "execution_count": null,
   "id": "cdd35a73-f5e3-492a-a19a-58f8cbfe521f",
   "metadata": {},
   "outputs": [],
   "source": []
  },
  {
   "cell_type": "markdown",
   "id": "49870721-12ab-48d2-bef2-1d1fd5d3b319",
   "metadata": {},
   "source": [
    "3. Using the `.json()` method, check the contents of the data you retrieved via the API call. Then, using the `pd.DataFrame.from_dict()` function, save its contents to a DataFrame named `mkp_df`."
   ]
  },
  {
   "cell_type": "code",
   "execution_count": null,
   "id": "1dc4aebf-2f50-428f-8d42-407c916b7347",
   "metadata": {},
   "outputs": [],
   "source": []
  },
  {
   "cell_type": "markdown",
   "id": "6cc82f49-a3eb-4798-8797-aca6a9007a73",
   "metadata": {},
   "source": [
    "4. Check the data type of all columns in the DataFrame. The `price` variable is stored as a string, but it should be a numeric variable. Convert it to numeric."
   ]
  },
  {
   "cell_type": "code",
   "execution_count": null,
   "id": "316e2812-7df7-41ed-85a3-89709a4d0478",
   "metadata": {},
   "outputs": [],
   "source": []
  },
  {
   "cell_type": "code",
   "execution_count": null,
   "id": "7cb359bf-f18d-4f76-ae47-8c585acddb30",
   "metadata": {},
   "outputs": [],
   "source": []
  },
  {
   "cell_type": "markdown",
   "id": "6504c403-25ba-4383-927f-5e4dc159fde7",
   "metadata": {},
   "source": [
    "5. Create a new DataFrame named `mkp_df_group` where you group all the `product_type`s and show their average price and rating. "
   ]
  },
  {
   "cell_type": "code",
   "execution_count": null,
   "id": "f5daaad6-5757-4587-9daa-1faa34e2cf5a",
   "metadata": {},
   "outputs": [],
   "source": []
  },
  {
   "cell_type": "markdown",
   "id": "879fa2f7-0d78-4c77-9b8d-e0585d392127",
   "metadata": {},
   "source": [
    "6. Create a scatterplot where you show the relationship between the `price` (on the x-axis) and the `rating` (on the y-axis) variables. "
   ]
  },
  {
   "cell_type": "code",
   "execution_count": null,
   "id": "f02b4837-f00a-4f41-8eff-d4b69b2664cd",
   "metadata": {},
   "outputs": [],
   "source": []
  },
  {
   "cell_type": "markdown",
   "id": "b34b8a2b-6a9b-4dd9-b13d-dfd364817afd",
   "metadata": {},
   "source": [
    "7. If you were to speak to the product department, which of these products would you recommend them to focus on in order to improve the overall customer satisfaction, considering their value for money?"
   ]
  },
  {
   "cell_type": "markdown",
   "id": "d6a9609a-ae46-4a27-8e7d-40eaeb1e0f7d",
   "metadata": {},
   "source": [
    "#### Advanced Exercises"
   ]
  },
  {
   "cell_type": "markdown",
   "id": "81573dda-b82c-4ca0-a447-10408c946927",
   "metadata": {},
   "source": [
    "1. Using an HTTP request to the City of Milan's API endpoint that you will find at [this web page](https://dati.comune.milano.it/dataset/ds411-rilevazione-qualita-aria-2022/resource/e1cc82ec-97bb-463c-a3fb-b61be60f0956), retrieve its data and save it to a DataFrame named `df`. *(hint: careful at the number or records you're retrieving, to be sure, set the limit parameter to be greater than the total number of rows available for that dataset)*"
   ]
  },
  {
   "cell_type": "code",
   "execution_count": null,
   "id": "a35a5b51-019b-4a10-bfb7-a7dbf7b27c70",
   "metadata": {},
   "outputs": [],
   "source": []
  },
  {
   "cell_type": "code",
   "execution_count": null,
   "id": "b702b2f8-0d55-4eed-a538-b58b68546513",
   "metadata": {},
   "outputs": [],
   "source": []
  },
  {
   "cell_type": "markdown",
   "id": "70d64b53-6363-4ed0-992d-e38c6cdcd779",
   "metadata": {},
   "source": [
    "2. Check the data types for all the columns in the DataFrame. Then convert the `data` variable to a datetime with `format=\"%Y-%m-%d\"`. "
   ]
  },
  {
   "cell_type": "code",
   "execution_count": null,
   "id": "64ca3064-06b9-4493-a480-0f6ca2f7a58f",
   "metadata": {},
   "outputs": [],
   "source": []
  },
  {
   "cell_type": "code",
   "execution_count": null,
   "id": "52699cde-c862-41a5-b1d1-83c8b7b51e58",
   "metadata": {},
   "outputs": [],
   "source": []
  },
  {
   "cell_type": "markdown",
   "id": "506488d2-6036-4e41-89ff-471024be3627",
   "metadata": {},
   "source": [
    "3. Create a new DataFrame named `df_pm10` which is a copy of `df` but contains data only for the **PM10** `inquinante`."
   ]
  },
  {
   "cell_type": "code",
   "execution_count": null,
   "id": "4a29ac6a-3842-4129-bc8b-e7730f7e3892",
   "metadata": {},
   "outputs": [],
   "source": []
  },
  {
   "cell_type": "markdown",
   "id": "8c144077-4b5e-453b-bba3-8ae3e9d6bd6e",
   "metadata": {},
   "source": [
    "4. Which day was the worst in terms of levels of the **PM10** `inquinante` in the City of Milan? How many grams per cubic meter (g/m3) were detected?"
   ]
  },
  {
   "cell_type": "code",
   "execution_count": null,
   "id": "bebb7e7c-a0b7-4b6a-989d-8ff7c652f6c5",
   "metadata": {},
   "outputs": [],
   "source": []
  },
  {
   "cell_type": "markdown",
   "id": "39f12d5e-8411-44c8-b697-8bb4ccc88d8b",
   "metadata": {},
   "source": [
    "5. Add a new column named `month` to the `df_pm10` DataFrame where you extract the month date-part from the `date` variable. "
   ]
  },
  {
   "cell_type": "code",
   "execution_count": null,
   "id": "482a6294-21c7-441a-b8e5-92bae88ad0f8",
   "metadata": {},
   "outputs": [],
   "source": []
  },
  {
   "cell_type": "markdown",
   "id": "2d5ae301-10f2-439c-bd5e-2177d5e98987",
   "metadata": {},
   "source": [
    "6. Using the `df_pm10` DataFrame, produce a table that groups all the `months` available in the dataset (by row) and shows (for each month), the following aggregations for the column `valore`: ['min', 'mean', 'max']. "
   ]
  },
  {
   "cell_type": "code",
   "execution_count": null,
   "id": "6c6ddd96-1ccc-4c40-b889-fe5cbe881ebf",
   "metadata": {},
   "outputs": [],
   "source": []
  },
  {
   "cell_type": "markdown",
   "id": "a783bf9e-b73c-4481-9a8d-d9081d3c3558",
   "metadata": {},
   "source": [
    "7. Using the `df_pm10` DataFrame, plot a time series showing the `valore` of **PM10** for each `stazione_id` *(hint: each stazione_id will have a different line with a different color)*."
   ]
  },
  {
   "cell_type": "code",
   "execution_count": null,
   "id": "325ebaa5-07cd-47c4-aa03-91d7f0949ff0",
   "metadata": {},
   "outputs": [],
   "source": []
  },
  {
   "cell_type": "markdown",
   "id": "6ee180b9-6a4d-4b18-b115-286945a282f5",
   "metadata": {},
   "source": [
    "8. Using an HTTP request to the City of Milan's API endpoint that you will find at [this web page](https://dati.comune.milano.it/dataset/ds484_stazioni_di_monitoraggio_inquinanti_atmosferici_dellarpa_sit/resource/b301f327-7504-4efc-8b4a-5f4a29f9d0ff), retrieve its data and save it to a DataFrame named `stations`. "
   ]
  },
  {
   "cell_type": "code",
   "execution_count": null,
   "id": "afb1ee38-2ea5-496f-a1c8-33ee2302b4f4",
   "metadata": {},
   "outputs": [],
   "source": []
  },
  {
   "cell_type": "code",
   "execution_count": null,
   "id": "f4f8c33d-a57c-47d5-8223-c4db17ad48ed",
   "metadata": {},
   "outputs": [],
   "source": []
  },
  {
   "cell_type": "markdown",
   "id": "67502f24-4245-4941-911b-9bab5b60de77",
   "metadata": {},
   "source": [
    "9. Which station's `nome` is the one that recorded the highest levels of **PM10** as recorded in the `df_pm10` DataFrame?"
   ]
  },
  {
   "cell_type": "code",
   "execution_count": null,
   "id": "3a18f8a5-8221-4b66-aa7e-123407ca5e54",
   "metadata": {},
   "outputs": [],
   "source": []
  },
  {
   "cell_type": "code",
   "execution_count": null,
   "id": "0ddf6ab5-8745-4621-b2e0-9bd67f168ca3",
   "metadata": {},
   "outputs": [],
   "source": []
  }
 ],
 "metadata": {
  "kernelspec": {
   "display_name": "Python 3 (ipykernel)",
   "language": "python",
   "name": "python3"
  },
  "language_info": {
   "codemirror_mode": {
    "name": "ipython",
    "version": 3
   },
   "file_extension": ".py",
   "mimetype": "text/x-python",
   "name": "python",
   "nbconvert_exporter": "python",
   "pygments_lexer": "ipython3",
   "version": "3.9.7"
  }
 },
 "nbformat": 4,
 "nbformat_minor": 5
}
