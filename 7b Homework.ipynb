{
 "cells": [
  {
   "cell_type": "markdown",
   "id": "bde4dda3-2de5-4fe0-baf1-51b0a8e3c6d1",
   "metadata": {},
   "source": [
    "# APIs and JSON"
   ]
  },
  {
   "cell_type": "markdown",
   "id": "f8d39ff1-490e-4110-9ff1-8880fdba895c",
   "metadata": {
    "tags": []
   },
   "source": [
    "### Homework"
   ]
  },
  {
   "cell_type": "markdown",
   "id": "e5aac0b8-67cf-496d-8b82-d7a2910ef36b",
   "metadata": {},
   "source": [
    "Before you begin, remember to import the necessary libraries."
   ]
  },
  {
   "cell_type": "code",
   "execution_count": 142,
   "id": "33de4fa0-4c6b-412e-9d31-b60b777ec39a",
   "metadata": {},
   "outputs": [],
   "source": [
    "import numpy as np\n",
    "import pandas as pd\n",
    "\n",
    "%matplotlib inline\n",
    "import matplotlib\n",
    "import matplotlib.pyplot as plt\n",
    "import seaborn as sns\n",
    "\n",
    "import requests"
   ]
  },
  {
   "cell_type": "markdown",
   "id": "a6be9786-ed96-4ab6-bf58-711b6fcef982",
   "metadata": {},
   "source": [
    "#### Standard Exercises"
   ]
  },
  {
   "cell_type": "markdown",
   "id": "46ff93bc-badf-4ca9-a22f-0695e4ea5ea7",
   "metadata": {},
   "source": [
    "In this exercise, you will use the [Makeup API](https://makeup-api.herokuapp.com/) from the [website](https://mixedanalytics.com/blog/list-actually-free-open-no-auth-needed-apis/) we saw in class to retrieve and analyse the [data related to the Maybelline brand](https://makeup-api.herokuapp.com/api/v1/products.json?brand=maybelline)."
   ]
  },
  {
   "cell_type": "markdown",
   "id": "1e9b46db-0f67-4b99-940e-38a8eba9498d",
   "metadata": {},
   "source": [
    "1. Save the sample URL / endpoint as a string to an object called `url` and, unig the `get()` function from the `requests` library, make an HTTP request and save it to a new object named `mkp`."
   ]
  },
  {
   "cell_type": "code",
   "execution_count": 143,
   "id": "ad08b583-bea2-4412-8b26-f3b2602e0e97",
   "metadata": {},
   "outputs": [],
   "source": [
    "url = \"https://makeup-api.herokuapp.com/api/v1/products.json?brand=maybelline\"\n",
    "mkp = requests.get(url)"
   ]
  },
  {
   "cell_type": "markdown",
   "id": "f489e47a-19a6-4e74-bbdf-391fefd2b230",
   "metadata": {},
   "source": [
    "2. Check that the status of the request from the previous point was successful *(hint: 200 = OK)*."
   ]
  },
  {
   "cell_type": "code",
   "execution_count": 144,
   "id": "cdd35a73-f5e3-492a-a19a-58f8cbfe521f",
   "metadata": {},
   "outputs": [
    {
     "name": "stdout",
     "output_type": "stream",
     "text": [
      "200\n"
     ]
    }
   ],
   "source": [
    "print(mkp.status_code)"
   ]
  },
  {
   "cell_type": "markdown",
   "id": "49870721-12ab-48d2-bef2-1d1fd5d3b319",
   "metadata": {},
   "source": [
    "3. Using the `.json()` method, check the contents of the data you retrieved via the API call. Then, using the `pd.DataFrame.from_dict()` function, save its contents to a DataFrame named `mkp_df`."
   ]
  },
  {
   "cell_type": "code",
   "execution_count": 145,
   "id": "1dc4aebf-2f50-428f-8d42-407c916b7347",
   "metadata": {},
   "outputs": [
    {
     "name": "stdout",
     "output_type": "stream",
     "text": [
      "[{'id': 495, 'brand': 'maybelline', 'name': 'Maybelline Face Studio Master Hi-Light Light Booster Bronzer', 'price': '14.99', 'price_sign': None, 'currency': None, 'image_link': 'https://d3t32hsnjxo7q6.cloudfront.net/i/991799d3e70b8856686979f8ff6dcfe0_ra,w158,h184_pa,w158,h184.png', 'product_link': 'https://well.ca/products/maybelline-face-studio-master_88837.html', 'website_link': 'https://well.ca', 'description': 'Maybelline Face Studio Master Hi-Light Light Boosting bronzer formula has an expert \\nbalance of shade + shimmer illuminator for natural glow. Skin goes \\nsoft-lit with zero glitz.\\n\\n\\t\\tFor Best Results: Brush over all shades in palette and gently sweep over \\ncheekbones, brow bones, and temples, or anywhere light naturally touches\\n the face.\\n\\n\\t\\t\\n\\t\\n\\n                    ', 'rating': 5.0, 'category': None, 'product_type': 'bronzer', 'tag_list': [], 'created_at': '2016-10-01T18:36:15.012Z', 'updated_at': '2017-12-23T21:08:50.624Z', 'product_api_url': 'https://makeup-api.herokuapp.com/api/v1/products/495.json', 'api_featured_image': '//s3.amazonaws.com/donovanbailey/products/api_featured_images/000/000/495/original/open-uri20171223-4-9hrto4?1514063330', 'product_colors': []}, {'id': 488, 'brand': 'maybelline', 'name': 'Maybelline Fit Me Bronzer', 'price': '10.29', 'price_sign': None, 'currency': None, 'image_link': 'https://d3t32hsnjxo7q6.cloudfront.net/i/d4f7d82b4858c622bb3c1cef07b9d850_ra,w158,h184_pa,w158,h184.png', 'product_link': 'https://well.ca/products/maybelline-fit-me-bronzer_31265.html', 'website_link': 'https://well.ca', 'description': \"Why You'll Love It\\n\\nLightweight pigments blend easily and wear evenly\\nProvides a natural, fade-proof bronzed color that leaves skin the way it was meant to be...fresh, breathing and natural\\n\\nFor Best Results: For soft, natural look, brush along cheekbone, sweeping upward.\", 'rating': 4.5, 'category': None, 'product_type': 'bronzer', 'tag_list': [], 'created_at': '2016-10-01T18:36:05.584Z', 'updated_at': '2017-12-23T21:08:49.985Z', 'product_api_url': 'https://makeup-api.herokuapp.com/api/v1/products/488.json', 'api_featured_image': '//s3.amazonaws.com/donovanbailey/products/api_featured_images/000/000/488/original/open-uri20171223-4-deo82c?1514063329', 'product_colors': [{'hex_value': '#CF9978', 'colour_name': 'Medium Bronze '}]}, {'id': 477, 'brand': 'maybelline', 'name': 'Maybelline Facestudio Master Contour Kit', 'price': '15.99', 'price_sign': None, 'currency': None, 'image_link': 'https://d3t32hsnjxo7q6.cloudfront.net/i/4f731de249cbd4cb819ea7f5f4cfb5c3_ra,w158,h184_pa,w158,h184.png', 'product_link': 'https://well.ca/products/maybelline-facestudio-master-contour_120303.html?cat=328', 'website_link': 'https://well.ca', 'description': 'Maybelline Facestudio Master Contour Kit is the ultimate on the go all-in-one palette, with contouring brush included.\\xa0 Define and highlight in a New York minute with this effortless 3-step face contouring kit. \\xa0This easy-to-use 3-step face contouring kit features a bronzer, blush and highlighter.', 'rating': None, 'category': None, 'product_type': 'bronzer', 'tag_list': [], 'created_at': '2016-10-01T18:35:40.504Z', 'updated_at': '2017-12-23T21:08:48.157Z', 'product_api_url': 'https://makeup-api.herokuapp.com/api/v1/products/477.json', 'api_featured_image': '//s3.amazonaws.com/donovanbailey/products/api_featured_images/000/000/477/original/open-uri20171223-4-1m8bc4v?1514063328', 'product_colors': [{'hex_value': '#9B7163', 'colour_name': None}, {'hex_value': '#D78A89', 'colour_name': None}, {'hex_value': '#DBB7A9', 'colour_name': None}]}, {'id': 468, 'brand': 'maybelline', 'name': 'Maybelline Face Studio Master Hi-Light Light Booster Blush', 'price': '14.99', 'price_sign': None, 'currency': None, 'image_link': 'https://d3t32hsnjxo7q6.cloudfront.net/i/4621032a92cb428ad640c105b944b39c_ra,w158,h184_pa,w158,h184.png', 'product_link': 'https://well.ca/products/maybelline-face-studio-master_88831.html', 'website_link': 'https://well.ca', 'description': 'Maybelline Face Studio Master Hi-Light Light Boosting blush formula has an expert \\nbalance of shade + shimmer illuminator for natural glow. Skin goes \\nsoft-lit with zero glitz.\\n\\n\\t\\tFor Best Results: Brush over all shades in palette and gently sweep over \\ncheekbones, brow bones, and temples, or anywhere light naturally touches\\n the face.\\n\\n\\t\\t\\n\\t\\n\\n                    ', 'rating': None, 'category': 'powder', 'product_type': 'blush', 'tag_list': [], 'created_at': '2016-10-01T18:35:27.706Z', 'updated_at': '2017-12-23T21:08:47.102Z', 'product_api_url': 'https://makeup-api.herokuapp.com/api/v1/products/468.json', 'api_featured_image': '//s3.amazonaws.com/donovanbailey/products/api_featured_images/000/000/468/original/open-uri20171223-4-sz64re?1514063327', 'product_colors': []}, {'id': 452, 'brand': 'maybelline', 'name': 'Maybelline Face Studio Master Hi-Light Light Booster Blush ', 'price': '14.99', 'price_sign': None, 'currency': None, 'image_link': 'https://d3t32hsnjxo7q6.cloudfront.net/i/e8c59b78ebeaec5c4b6aeba49a9ff0f6_ra,w158,h184_pa,w158,h184.png', 'product_link': 'https://well.ca/products/maybelline-face-studio-master_88836.html', 'website_link': 'https://well.ca', 'description': 'Maybelline Face Studio Master Hi-Light Light Boosting blush formula has an expert \\nbalance of shade + shimmer illuminator for natural glow. Skin goes \\nsoft-lit with zero glitz.\\n\\n\\t\\tFor Best Results: Brush over all shades in palette and gently sweep over \\ncheekbones, brow bones, and temples, or anywhere light naturally touches\\n the face.\\n\\n\\t\\t\\n\\t\\n\\n                    ', 'rating': 5.0, 'category': 'powder', 'product_type': 'blush', 'tag_list': [], 'created_at': '2016-10-01T18:35:07.476Z', 'updated_at': '2017-12-23T20:51:17.460Z', 'product_api_url': 'https://makeup-api.herokuapp.com/api/v1/products/452.json', 'api_featured_image': '//s3.amazonaws.com/donovanbailey/products/api_featured_images/000/000/452/original/open-uri20171223-4-1pmofky?1514062277', 'product_colors': []}, {'id': 439, 'brand': 'maybelline', 'name': 'Maybelline Fit Me Blush', 'price': '10.29', 'price_sign': None, 'currency': None, 'image_link': 'https://d3t32hsnjxo7q6.cloudfront.net/i/53d5f825461117c0d96946e1029510b0_ra,w158,h184_pa,w158,h184.png', 'product_link': 'https://well.ca/products/maybelline-fit-me-blush_31269.html', 'website_link': 'https://well.ca', 'description': 'Maybelline Fit Me Blush has lightweight pigments blend easily and wear evenly. It provides a natural, fade-proof cheek color that leaves skin the way it was meant to be...fresh, breathing, and natural.\\n\\nFor Best Results: For soft, natural look, brush along cheekbone, sweeping upward.', 'rating': 4.8, 'category': 'powder', 'product_type': 'blush', 'tag_list': [], 'created_at': '2016-10-01T18:34:46.302Z', 'updated_at': '2017-12-23T21:08:45.097Z', 'product_api_url': 'https://makeup-api.herokuapp.com/api/v1/products/439.json', 'api_featured_image': '//s3.amazonaws.com/donovanbailey/products/api_featured_images/000/000/439/original/open-uri20171223-4-1max36x?1514063325', 'product_colors': [{'hex_value': '#FB8684', 'colour_name': 'Deep Coral  '}, {'hex_value': '#F27988', 'colour_name': 'Deep Rose '}, {'hex_value': '#C94A50', 'colour_name': 'Deep Wine '}, {'hex_value': '#FFAAAF', 'colour_name': 'Light Rose '}, {'hex_value': '#FC9D8F', 'colour_name': 'Medium Coral  '}, {'hex_value': '#E89890', 'colour_name': 'Medium Nude '}, {'hex_value': '#FF93A0', 'colour_name': 'Medium Pink '}]}, {'id': 414, 'brand': 'maybelline', 'name': 'Maybelline Dream Bouncy Blush', 'price': '11.99', 'price_sign': None, 'currency': None, 'image_link': 'https://d3t32hsnjxo7q6.cloudfront.net/i/51eacb9efebbaee39399e65ffe3d9416_ra,w158,h184_pa,w158,h184.png', 'product_link': 'https://well.ca/products/maybelline-dream-bouncy-blush_50689.html', 'website_link': 'https://well.ca', 'description': 'Now, blush has bounce! Freshest flush ever:• New bouncy texture is formulated with silicone elastomers• Lightweight like a powder, yet melts seamlessly into skin like a cream giving you a fresh flush• Dermatologist tested• Allergy tested• Non-comedogenic\\n                    \\n                    \\n                    \\n                        \\n                        For best results: With your fingertips, blend a small amount of\\n blush onto the apples of your cheeks, applying from your cheekbones to \\nyour temples. To build colour intensity, apply more blush. \\n                    ', 'rating': 4.5, 'category': 'cream', 'product_type': 'blush', 'tag_list': [], 'created_at': '2016-10-01T18:34:17.251Z', 'updated_at': '2017-12-23T21:08:40.418Z', 'product_api_url': 'https://makeup-api.herokuapp.com/api/v1/products/414.json', 'api_featured_image': '//s3.amazonaws.com/donovanbailey/products/api_featured_images/000/000/414/original/open-uri20171223-4-cjvuw0?1514063320', 'product_colors': [{'hex_value': '#ecc3d5', 'colour_name': 'Fresh Pink '}, {'hex_value': '#ee9cb1', 'colour_name': 'Hot Tamale '}, {'hex_value': '#ecbaba', 'colour_name': 'Peach Satin '}, {'hex_value': '#c25159', 'colour_name': 'Plum Wine '}]}, {'id': 398, 'brand': 'maybelline', 'name': 'Maybelline Color Sensational Lipliner', 'price': '8.29', 'price_sign': None, 'currency': None, 'image_link': 'https://d3t32hsnjxo7q6.cloudfront.net/i/6607c1b7eb717dfbd3c228b61e4c5148_ra,w158,h184_pa,w158,h184.png', 'product_link': 'https://well.ca/products/maybelline-color-sensational_14541.html', 'website_link': 'https://well.ca', 'description': \"Keep your Maybelline lip color beautiful with matching lip liners that won't smudge, smear or bleed for smooth, defined lips. For best results: Line your lips starting in the center of your upper lip. Work from the \\ncenter to outer edges of your lips using small strokes, following the \\ncontour of your mouth. Follow the same technique for your bottom lip. To\\n extend the wear of your favorite lip color or lip gloss, first fill in \\nyour lips completely with lip liner. \", 'rating': 3.5, 'category': None, 'product_type': 'lip_liner', 'tag_list': [], 'created_at': '2016-10-01T18:33:39.513Z', 'updated_at': '2017-12-23T21:08:35.034Z', 'product_api_url': 'https://makeup-api.herokuapp.com/api/v1/products/398.json', 'api_featured_image': '//s3.amazonaws.com/donovanbailey/products/api_featured_images/000/000/398/original/open-uri20171223-4-11xbwij?1514063314', 'product_colors': [{'hex_value': '#A15638', 'colour_name': 'Nude '}, {'hex_value': '#7B4344', 'colour_name': 'Plum '}, {'hex_value': '#854337', 'colour_name': 'Raisin '}, {'hex_value': '#B3705A', 'colour_name': 'Toast '}]}, {'id': 382, 'brand': 'maybelline', 'name': 'Maybelline Dream Smooth Mousse Foundation', 'price': '14.79', 'price_sign': None, 'currency': None, 'image_link': 'https://d3t32hsnjxo7q6.cloudfront.net/i/fb79e7facf701176d4113527c284613f_ra,w158,h184_pa,w158,h184.png', 'product_link': 'https://well.ca/products/maybelline-dream-smooth-mousse_28944.html', 'website_link': 'https://well.ca', 'description': \"Why You'll Love ItUnique cream-whipped foundation provides 100% baby-smooth perfection.\\n\\nSkin looks and feels hydrated for 14 hours - never rough or dry\\nLightweight formula provides perfectly moisturizing coverage\\nBlends seamlessly and feels fresh all-day\\nOil-free, Fragrance-free, Dermatologist Tested, Allergy Tested, Non-comedogenic – won’t clog pores.\\nSafe for sensitive skin\\n\\n\\xa0\", 'rating': 3.8, 'category': 'cream', 'product_type': 'foundation', 'tag_list': [], 'created_at': '2016-10-01T18:33:13.645Z', 'updated_at': '2017-12-23T21:08:34.195Z', 'product_api_url': 'https://makeup-api.herokuapp.com/api/v1/products/382.json', 'api_featured_image': '//s3.amazonaws.com/donovanbailey/products/api_featured_images/000/000/382/original/open-uri20171223-4-8avct4?1514063314', 'product_colors': []}, {'id': 380, 'brand': 'maybelline', 'name': 'Maybelline Fit Me Shine-Free Foundation Stick', 'price': '10.99', 'price_sign': None, 'currency': None, 'image_link': 'https://d3t32hsnjxo7q6.cloudfront.net/i/d04e7c2ed65dabe1dca4eed9aa268e95_ra,w158,h184_pa,w158,h184.png', 'product_link': 'https://well.ca/products/maybelline-fit-me-shine-free_79864.html', 'website_link': 'https://well.ca', 'description': \"Get flawless, shine-free skin instantly and on-the-go for tailor-made \\nmattifying coverage.  The anti-shine core has ultra-lightweight powders \\nbuilt in to the stick foundation to instantly dissolve excess oil. Features: Maybelline's first gel stick foundation with an anti-shine core\\nFresh gel foundation blends to a flawless matte finish\\nLightweight powders in the anti-shine core instantly dissolve excess oil\", 'rating': 4.7, 'category': 'cream', 'product_type': 'foundation', 'tag_list': [], 'created_at': '2016-10-01T18:33:11.836Z', 'updated_at': '2017-12-23T21:08:33.623Z', 'product_api_url': 'https://makeup-api.herokuapp.com/api/v1/products/380.json', 'api_featured_image': '//s3.amazonaws.com/donovanbailey/products/api_featured_images/000/000/380/original/open-uri20171223-4-13lju4x?1514063313', 'product_colors': [{'hex_value': '#FFE4C6', 'colour_name': 'Porcelain (110) '}, {'hex_value': '#FFE5C1', 'colour_name': 'Ivory (115) '}, {'hex_value': '#FFD9B9', 'colour_name': 'Classic Ivory (120) '}, {'hex_value': '#FACFA8', 'colour_name': 'Natural Beige (220) '}, {'hex_value': '#D39B70', 'colour_name': 'Toffee (330) '}, {'hex_value': '#CA8B67', 'colour_name': 'Coconut (355) '}]}, {'id': 379, 'brand': 'maybelline', 'name': 'Maybelline Dream Matte Mousse Foundation', 'price': '14.79', 'price_sign': None, 'currency': None, 'image_link': 'https://d3t32hsnjxo7q6.cloudfront.net/i/029889b345c76a70e8bb978b73ed1a87_ra,w158,h184_pa,w158,h184.png', 'product_link': 'https://well.ca/products/maybelline-dream-matte-mousse_3747.html', 'website_link': 'https://well.ca', 'description': \"Maybelline Dream Matte Mouse Foundation is a revolutionary air-soft mousse that provides perfecting coverage for 100% velvet-matte complexion. It's non-comedogenic, fragrance-free, dermatologist-tested, allergy-tested and ideal for normal to oily skin.For best results: Apply smoothly and evenly to your face and blend with your fingertips.\\ufeff\\n\\n\\xa0\", 'rating': 4.4, 'category': 'cream', 'product_type': 'foundation', 'tag_list': [], 'created_at': '2016-10-01T18:33:10.614Z', 'updated_at': '2017-12-23T21:08:33.441Z', 'product_api_url': 'https://makeup-api.herokuapp.com/api/v1/products/379.json', 'api_featured_image': '//s3.amazonaws.com/donovanbailey/products/api_featured_images/000/000/379/original/open-uri20171223-4-1koue12?1514063313', 'product_colors': [{'hex_value': '#f3d7b3', 'colour_name': 'Classic Ivory '}, {'hex_value': '#dfc5a8', 'colour_name': 'Light Beige '}, {'hex_value': '#edd3ac', 'colour_name': 'Nude '}, {'hex_value': '#f5dfc3', 'colour_name': 'Porcelain Ivory '}, {'hex_value': '#d9bcaf', 'colour_name': 'Pure Beige '}, {'hex_value': '#d8bda8', 'colour_name': 'Sandy Beige '}]}, {'id': 366, 'brand': 'maybelline', 'name': 'Maybelline Mineral Power Natural Perfecting Powder Foundation', 'price': '14.99', 'price_sign': None, 'currency': None, 'image_link': 'https://d3t32hsnjxo7q6.cloudfront.net/i/c77ad2da76259cfd67a9a9432f635bfb_ra,w158,h184_pa,w158,h184.png', 'product_link': 'https://well.ca/products/maybelline-mineral-power-natural_5900.html?cat=582', 'website_link': 'https://well.ca', 'description': \"Why You'll Love ItMineral Power Powder Foundation with micro-minerals provides a more natural, healthier, luminous look.\\nDiscover the natural power of micro-minerals:\\n100% natural mica creates a more natural luminosity Complete, yet refined coverage Provides buildable, even coverage Preservative-free, talc-free, oil-free, fragrance-free Medium to Full Coverage\", 'rating': 3.9, 'category': 'mineral', 'product_type': 'foundation', 'tag_list': [], 'created_at': '2016-10-01T18:32:42.283Z', 'updated_at': '2017-12-23T21:08:29.561Z', 'product_api_url': 'https://makeup-api.herokuapp.com/api/v1/products/366.json', 'api_featured_image': '//s3.amazonaws.com/donovanbailey/products/api_featured_images/000/000/366/original/open-uri20171223-4-q5cytj?1514063309', 'product_colors': [{'hex_value': '#FFD59E', 'colour_name': 'Classic Ivory '}]}, {'id': 354, 'brand': 'maybelline', 'name': 'Maybelline Dream Velvet Foundation', 'price': '18.49', 'price_sign': None, 'currency': None, 'image_link': 'https://d3t32hsnjxo7q6.cloudfront.net/i/24517c6c81c92eda31cd32b6327c1298_ra,w158,h184_pa,w158,h184.png', 'product_link': 'https://well.ca/products/maybelline-dream-velvet-foundation_112738.html?cat=581', 'website_link': 'https://well.ca', 'description': 'This Maybelline Dream Velvet Foundation is a refreshing gel-whipped foundation that leaves complexion perfected and smooth with a velvety, soft-matte finish. Skin stays hydrated for 12 hours. Features:Maybelline’s first hydrating matte foundation for 100% velvet-smooth perfectionUnique gel-whipped formulaIdeal for normal to combination skin, medium coverage For best results apply Maybelline Dream Velvet Foundation using Maybelline Dream Blender', 'rating': 2.5, 'category': 'cream', 'product_type': 'foundation', 'tag_list': [], 'created_at': '2016-10-01T18:32:21.385Z', 'updated_at': '2017-12-23T21:08:36.656Z', 'product_api_url': 'https://makeup-api.herokuapp.com/api/v1/products/354.json', 'api_featured_image': '//s3.amazonaws.com/donovanbailey/products/api_featured_images/000/000/354/original/open-uri20171223-4-ouczfl?1514063316', 'product_colors': [{'hex_value': '#D39D7B', 'colour_name': 'Caramel '}, {'hex_value': '#F5CAB9', 'colour_name': 'Classic Ivory '}, {'hex_value': '#B37560', 'colour_name': 'Coconut '}, {'hex_value': '#F3BEAC', 'colour_name': 'Creamy Natural  '}, {'hex_value': '#E4A890', 'colour_name': 'Honey Beige  '}, {'hex_value': '#F6D2BC', 'colour_name': 'Ivory '}, {'hex_value': '#E2B598', 'colour_name': 'Natural Beige '}, {'hex_value': '#F1BEAB', 'colour_name': 'Nude  '}, {'hex_value': '#F8E0D4', 'colour_name': 'Porcelain Ivory '}, {'hex_value': '#EEBAA4', 'colour_name': 'Pure Beige '}, {'hex_value': '#EFC2A1', 'colour_name': 'Sandy Beige  '}, {'hex_value': '#FAE2D6', 'colour_name': 'Warm Porcelain '}]}, {'id': 353, 'brand': 'maybelline', 'name': 'Maybelline Superstay Better Skin Foundation ', 'price': '14.99', 'price_sign': None, 'currency': None, 'image_link': 'https://d3t32hsnjxo7q6.cloudfront.net/i/c7d967ef502ecd79ab7ab466c4952d82_ra,w158,h184_pa,w158,h184.png', 'product_link': 'https://well.ca/products/maybelline-superstay-better-skin_112548.html', 'website_link': 'https://well.ca', 'description': \"The Maybelline Superstay Better Skin Foundation reduces the appearance of spots, bumps, dullness and redness to give you brighter, smoother and more even skin. Features:Longwear that improves skin every minute you're in it: brighter, smoother and more even.With micro-flex technology and the antioxidant power of Actyl-C.Ideal for sensitive skin. Good for all skin types. Medium to full coverageHow to Apply: Apply evenly to your face and blend with your fingers. \", 'rating': 3.0, 'category': 'liquid', 'product_type': 'foundation', 'tag_list': [], 'created_at': '2016-10-01T18:32:19.867Z', 'updated_at': '2017-12-23T21:08:27.318Z', 'product_api_url': 'https://makeup-api.herokuapp.com/api/v1/products/353.json', 'api_featured_image': '//s3.amazonaws.com/donovanbailey/products/api_featured_images/000/000/353/original/open-uri20171223-4-q9ubsf?1514063307', 'product_colors': [{'hex_value': '#9A6438', 'colour_name': 'Coconut  '}, {'hex_value': '#DCBCA3', 'colour_name': 'Ivory '}, {'hex_value': '#ECD3B2', 'colour_name': 'Porcelain '}, {'hex_value': '#C99F6D', 'colour_name': 'Rich Tan  '}, {'hex_value': '#CA9B5F', 'colour_name': 'Sun Beige  '}]}, {'id': 339, 'brand': 'maybelline', 'name': 'Maybelline Dream Wonder Liquid Touch Foundation', 'price': '14.99', 'price_sign': None, 'currency': None, 'image_link': 'https://d3t32hsnjxo7q6.cloudfront.net/i/ccb99ad6ac7f31a2a73454bdbda01d99_ra,w158,h184_pa,w158,h184.jpeg', 'product_link': 'https://well.ca/products/maybelline-dream-wonder-liquid-touch_96732.html', 'website_link': 'https://well.ca', 'description': \"Maybelline Dream Wonder Liquid Touch Foundation's breakthrough texture fuses with skin. A finish so impeccable, yet undetectable.Features:Exclusive dropperMedium to full coverage, ideal for normal skinFor Best Results: Shake well. Unscrew cap. Holding dropper vertically, allow foundation to drop onto fingertip. Apply to face as usual.\", 'rating': None, 'category': 'liquid', 'product_type': 'foundation', 'tag_list': [], 'created_at': '2016-10-01T18:31:57.182Z', 'updated_at': '2017-12-23T21:08:22.715Z', 'product_api_url': 'https://makeup-api.herokuapp.com/api/v1/products/339.json', 'api_featured_image': '//s3.amazonaws.com/donovanbailey/products/api_featured_images/000/000/339/original/data?1514063302', 'product_colors': [{'hex_value': '#DDA17B', 'colour_name': 'Sun Beige (85) '}]}, {'id': 321, 'brand': 'maybelline', 'name': 'Maybelline Dream Liquid Mousse', 'price': '14.79', 'price_sign': None, 'currency': None, 'image_link': 'https://d3t32hsnjxo7q6.cloudfront.net/i/1ca6a4a442b9aa6b5f3d94da77d8846c_ra,w158,h184_pa,w158,h184.png', 'product_link': 'https://well.ca/products/maybelline-dream-liquid-mousse_12303.html', 'website_link': 'https://well.ca', 'description': 'Airbrushed perfection made possible:Air-whipped liquid makeup for 100% poreless skin\\n\\nBreakthrough finish cushions and smooths for the most flawless, luminous coverage\\nLightweight air-whipped formula blends to virtually eliminate pores and imperfections\\nInnovative shade-match pump makes finding your perfect shade a dream \\n', 'rating': 4.4, 'category': 'liquid', 'product_type': 'foundation', 'tag_list': [], 'created_at': '2016-10-01T18:31:31.590Z', 'updated_at': '2017-12-23T21:08:12.680Z', 'product_api_url': 'https://makeup-api.herokuapp.com/api/v1/products/321.json', 'api_featured_image': '//s3.amazonaws.com/donovanbailey/products/api_featured_images/000/000/321/original/open-uri20171223-4-4z6wpb?1514063292', 'product_colors': [{'hex_value': '#FFD59E', 'colour_name': 'Classic Ivory (Light 2) '}, {'hex_value': '#CB9E6C', 'colour_name': 'Natural Beige (Medium 2.5) '}, {'hex_value': '#FFD9A6', 'colour_name': 'Natural Ivory (Light 3) '}, {'hex_value': '#FBD8AA', 'colour_name': 'Porcelain Ivory (Light 1) '}, {'hex_value': '#CE9E88', 'colour_name': 'Pure Beige (Medium 2) '}]}, {'id': 320, 'brand': 'maybelline', 'name': 'Maybelline FIT ME! Matte + Poreless Foundation', 'price': '10.99', 'price_sign': None, 'currency': None, 'image_link': 'https://d3t32hsnjxo7q6.cloudfront.net/i/257993e12625cc45a72ec03636ffa5c5_ra,w158,h184_pa,w158,h184.jpg', 'product_link': 'https://well.ca/products/maybelline-fit-me-matte-poreless_100974.html', 'website_link': 'https://well.ca', 'description': \"Maybelline FIT ME! Matte + Poreless Foundation goes beyond  skin tone\\n matching to fit the unique texture issues of normal to oily skin for \\nthe ultimate natural skin fit.\\n\\nWhile some foundations can exaggerate pores and oily skin, only Maybelline's \\npore-minimizing foundation contains their genius blurring micro-powders \\nthat erase pores and absorb oil for a naturally matte and \\nporeless-looking finish.Dermatologist and allergy tested.  Does not clog pores. Oil-free.\\n\\n  \\n\", 'rating': 4.4, 'category': 'liquid', 'product_type': 'foundation', 'tag_list': [], 'created_at': '2016-10-01T18:31:30.291Z', 'updated_at': '2017-12-23T21:08:12.553Z', 'product_api_url': 'https://makeup-api.herokuapp.com/api/v1/products/320.json', 'api_featured_image': '//s3.amazonaws.com/donovanbailey/products/api_featured_images/000/000/320/original/data?1514063292', 'product_colors': [{'hex_value': '#fadbc7', 'colour_name': 'Porcelain '}, {'hex_value': '#f1c7b1', 'colour_name': 'Natural Ivory '}, {'hex_value': '#e8b89b', 'colour_name': 'Ivory '}, {'hex_value': '#e6ba9f', 'colour_name': 'Classic Ivory '}, {'hex_value': '#e5b495', 'colour_name': 'Nude Beige '}, {'hex_value': '#e2ae8e', 'colour_name': 'Buff Beige '}, {'hex_value': '#dead87', 'colour_name': 'Natural Beige '}, {'hex_value': '#dfa585', 'colour_name': 'Pure Beige '}, {'hex_value': '#d9a37f', 'colour_name': 'Sun Beige '}, {'hex_value': '#bc855f', 'colour_name': 'Toffee '}, {'hex_value': '#b37750', 'colour_name': 'Coconut '}]}, {'id': 317, 'brand': 'maybelline', 'name': 'Maybelline Fit Me Foundation with SPF', 'price': '10.99', 'price_sign': None, 'currency': None, 'image_link': 'https://d3t32hsnjxo7q6.cloudfront.net/i/eccb88d484b8c929fd349b0995a5dba2_ra,w158,h184_pa,w158,h184.png', 'product_link': 'https://well.ca/products/maybelline-fit-me-foundation-with_31187.html', 'website_link': 'https://well.ca', 'description': 'It’s face makeup that fits you!Features: No oils, no waxes, no nonsenseNatural, Light to medium coverage that leaves skin the way it was meant to be. Fresh, breathing, flawless.Exclusive transluscent base and lightweight pigments allow skin’s natural highs and lows to show through.New shades formulated specifically for women of color contain \\nrevolutionary 5-D pigment technology to balance your skin’s authentic \\ntones and highlights.SPF 18', 'rating': 3.8, 'category': 'liquid', 'product_type': 'foundation', 'tag_list': [], 'created_at': '2016-10-01T18:31:25.764Z', 'updated_at': '2017-12-23T21:08:20.342Z', 'product_api_url': 'https://makeup-api.herokuapp.com/api/v1/products/317.json', 'api_featured_image': '//s3.amazonaws.com/donovanbailey/products/api_featured_images/000/000/317/original/open-uri20171223-4-13jpajg?1514063300', 'product_colors': [{'hex_value': '#F7C2A5', 'colour_name': 'Ivory (115) '}, {'hex_value': '#EFC1A0', 'colour_name': 'Classic Ivory (120) '}, {'hex_value': '#E6B18F', 'colour_name': 'Nude Beige (125) '}, {'hex_value': '#CE996F', 'colour_name': 'Natural Beige (220) '}]}, {'id': 309, 'brand': 'maybelline', 'name': 'Maybelline Expert Wear Eye Shadow Quad ', 'price': '8.99', 'price_sign': None, 'currency': None, 'image_link': 'https://d3t32hsnjxo7q6.cloudfront.net/i/c924006882e8e313d445a3a5394e4729_ra,w158,h184_pa,w158,h184.png', 'product_link': 'https://well.ca/products/maybelline-expert-wear-eye-shadow_79611.html', 'website_link': 'https://well.ca', 'description': 'Easy to use, lots to choose!Maybelline Expert Wear Eye Shadow \\nQuads have 4 coordinating shades with step by step application guide \\nmakes shadow easier than ever. The eyeshadows glide on effortlessly with\\n superior smoothness and the velvet-tip applicator blends without \\ntugging or pulling. Safe for sensitive eyes and contact lens wearers, \\nophthalmologist-tested.For best results sweep the brush 4 times:Apply base color. Sweep shade on lid. Contour crease and blend. Line around eye. ', 'rating': 4.0, 'category': None, 'product_type': 'eyeshadow', 'tag_list': [], 'created_at': '2016-10-01T18:31:00.847Z', 'updated_at': '2017-12-23T21:08:19.919Z', 'product_api_url': 'https://makeup-api.herokuapp.com/api/v1/products/309.json', 'api_featured_image': '//s3.amazonaws.com/donovanbailey/products/api_featured_images/000/000/309/original/open-uri20171223-4-1mmpy02?1514063299', 'product_colors': []}, {'id': 307, 'brand': 'maybelline', 'name': 'Maybelline Eyestudio Color Tattoo Concentrated Crayon', 'price': '10.99', 'price_sign': None, 'currency': None, 'image_link': 'https://d3t32hsnjxo7q6.cloudfront.net/i/3f9f894b56e0616e44c5ee01dea45217_ra,w158,h184_pa,w158,h184.png', 'product_link': 'https://well.ca/products/maybelline-eyestudio-color-tattoo_114535.html', 'website_link': 'https://well.ca', 'description': 'Maybelline Eyestudio Color Tattoo Concentrated Crayons give you high-intensity color that looks vibrant all-day long.Features:Smooth, soft creamy finishPlayful intense colorsAll day tattoo tenacity. Playful color intensity. In an easy glide on crayon.', 'rating': 3.0, 'category': None, 'product_type': 'eyeshadow', 'tag_list': [], 'created_at': '2016-10-01T18:30:58.610Z', 'updated_at': '2017-12-23T21:08:18.441Z', 'product_api_url': 'https://makeup-api.herokuapp.com/api/v1/products/307.json', 'api_featured_image': '//s3.amazonaws.com/donovanbailey/products/api_featured_images/000/000/307/original/open-uri20171223-4-5xfc8v?1514063298', 'product_colors': [{'hex_value': '#515552', 'colour_name': 'Audacious Asphalt '}, {'hex_value': '#D8BFAC', 'colour_name': 'Barely Beige '}, {'hex_value': '#B89A89', 'colour_name': 'Bronze Truffle '}, {'hex_value': '#706A70', 'colour_name': 'Charcoal Chrome '}, {'hex_value': '#5C3B27', 'colour_name': 'Creamy Chocolate '}, {'hex_value': '#DDBA89', 'colour_name': 'Gold Rush '}, {'hex_value': '#8E8C86', 'colour_name': 'Grey Crystal '}, {'hex_value': '#7D6F7D', 'colour_name': 'Lavish Lavender '}, {'hex_value': '#957B83', 'colour_name': 'Lilac Lust '}, {'hex_value': '#E5AEB9', 'colour_name': 'Pink Parfait '}]}, {'id': 295, 'brand': 'maybelline', 'name': 'Maybelline The Nudes Eye Shadow Palette', 'price': '17.99', 'price_sign': None, 'currency': None, 'image_link': 'https://d3t32hsnjxo7q6.cloudfront.net/i/201350fd3e173307ade44520dc87d8fb_ra,w158,h184_pa,w158,h184.png', 'product_link': 'https://well.ca/products/maybelline-the-nudes-eye-shadow_95144.html', 'website_link': 'https://well.ca', 'description': \"Maybelline The Nudes Eye Shadow Palette let's you create looks from day to night. Deep to light. So try it out and create your ideal eye look today!Features: \\n\\t\\t\\n\\t\\t\\t\\n\\t\\t\\t\\t13 looks in one Expert Wear eyeshadow palette\\nExtraordinary Colour, from soft highlights, to medium bronze, to rich black\\nFrom Maybelline's ultra-blendable pigments\\nLong Wear\\n\\t\\t\\n\\t\\t\\t\\n\\t\\t\\t\\t\", 'rating': 2.0, 'category': 'palette', 'product_type': 'eyeshadow', 'tag_list': [], 'created_at': '2016-10-01T18:30:35.715Z', 'updated_at': '2017-12-26T00:33:00.316Z', 'product_api_url': 'https://makeup-api.herokuapp.com/api/v1/products/295.json', 'api_featured_image': '//s3.amazonaws.com/donovanbailey/products/api_featured_images/000/000/295/original/open-uri20171223-4-5nv3ff?1514063296', 'product_colors': []}, {'id': 291, 'brand': 'maybelline', 'name': 'Maybelline Eye Studio Color Tattoo 24HR Cream Gel Shadow Leather', 'price': '8.99', 'price_sign': None, 'currency': None, 'image_link': 'https://d3t32hsnjxo7q6.cloudfront.net/i/cf21d194ab14ee3c527d02682c358a7a_ra,w158,h184_pa,w158,h184.png', 'product_link': 'https://well.ca/products/maybelline-eye-studio-color-tattoo_95143.html', 'website_link': 'https://well.ca', 'description': \"\\n                       \\n\\tSo rich. So creamy. Only Maybelline's cream gel eye shadow formula gets the look of couture leather so right!\\n\\t\\t\\n\\t\\t\\t\\n\\t\\t\\t\\tDare to wear Maybelline Color Tattoo leather 24HR long wear eye shadow.Features: Ink technology creates 24HR wear shadow for our most intense, long-lasting color saturationCream eye shadow formula glides on without creasing and keeps color vibrantOphthalmologist-tested.  Safe for sensitive eyes and contact lens wearers\\n\\t\\tShade Range: \\n\\t\\n\\n                    \\n                \", 'rating': 4.3, 'category': None, 'product_type': 'eyeshadow', 'tag_list': [], 'created_at': '2016-10-01T18:30:28.176Z', 'updated_at': '2017-12-23T21:08:16.007Z', 'product_api_url': 'https://makeup-api.herokuapp.com/api/v1/products/291.json', 'api_featured_image': '//s3.amazonaws.com/donovanbailey/products/api_featured_images/000/000/291/original/open-uri20171223-4-1693fvq?1514063295', 'product_colors': [{'hex_value': '#8A665B', 'colour_name': 'Chocolate Suede (95) '}, {'hex_value': '#BD9786', 'colour_name': 'Creamy Beige (80) '}, {'hex_value': '#98907A', 'colour_name': 'Deep Forest (85) '}, {'hex_value': '#484A4E', 'colour_name': 'Dramatic Black (100) '}, {'hex_value': '#B196A6', 'colour_name': 'Vintage Plum (90) '}]}, {'id': 286, 'brand': 'maybelline', 'name': 'Maybelline The Nudes Eyeshadow Palette in The Blushed Nudes', 'price': '17.99', 'price_sign': None, 'currency': None, 'image_link': 'https://d3t32hsnjxo7q6.cloudfront.net/i/49d98e112e77d2a9a0c8fad28df89a1e_ra,w158,h184_pa,w158,h184.png', 'product_link': 'https://well.ca/products/maybelline-the-nudes-eyeshadow_107498.html', 'website_link': 'https://well.ca', 'description': \"Create looks from day to night and deep to light with Maybelline's The Blushed Nudes Eyeshadow Palette.Features:13 looks in one eyeshadow paletteExtraordinary colour from ultra-blendable pigmentsLong wear with sensual finish that lasts up to 12 hours\", 'rating': 4.5, 'category': 'palette', 'product_type': 'eyeshadow', 'tag_list': [], 'created_at': '2016-10-01T18:30:20.193Z', 'updated_at': '2017-12-26T00:33:00.206Z', 'product_api_url': 'https://makeup-api.herokuapp.com/api/v1/products/286.json', 'api_featured_image': '//s3.amazonaws.com/donovanbailey/products/api_featured_images/000/000/286/original/open-uri20171223-4-1pj74fn?1514063294', 'product_colors': []}, {'id': 279, 'brand': 'maybelline', 'name': 'Maybelline Eye Studio Color Tattoo 24HR Cream Gel Shadow', 'price': '8.99', 'price_sign': None, 'currency': None, 'image_link': 'https://d3t32hsnjxo7q6.cloudfront.net/i/c2ddacc79f4fdd3d23664581c76546bc_ra,w158,h184_pa,w158,h184.png', 'product_link': 'https://well.ca/products/maybelline-eye-studio-color-tattoo_50692.html', 'website_link': 'https://well.ca', 'description': \"Dare to wear 24HR shadow!Maybelline's Color Tattoo Cream Gel Shadow uses ink technology for their most intense, long-lasting colour saturation. The cream formula glides on without creasing and keeps colour vibrant.Ophthalmologist-tested. Safe for sensitive eyes and contact lens wearers.\\n                    \\n                    \\n                    \\n                        \\n                        For best results: With \\nfingertips, sweep all over eye from inner corner and work outwards. For\\n added drama, darken as desired.\\xa0\\xa0\\xa0\\xa0\\xa0\\xa0\\xa0\\xa0\\xa0\\xa0\\xa0\\xa0\\xa0\\xa0 \", 'rating': 4.5, 'category': None, 'product_type': 'eyeshadow', 'tag_list': [], 'created_at': '2016-10-01T18:30:10.665Z', 'updated_at': '2017-12-23T21:08:13.016Z', 'product_api_url': 'https://makeup-api.herokuapp.com/api/v1/products/279.json', 'api_featured_image': '//s3.amazonaws.com/donovanbailey/products/api_featured_images/000/000/279/original/open-uri20171223-4-h37y2c?1514063292', 'product_colors': [{'hex_value': '#ab897d', 'colour_name': 'Bad to the Bronze '}, {'hex_value': '#1d8493', 'colour_name': 'Tenacious Teal '}, {'hex_value': '#d3cfcc', 'colour_name': 'Too Cool '}, {'hex_value': '#81726d', 'colour_name': 'Tough as Taupe '}]}, {'id': 273, 'brand': 'maybelline', 'name': 'Maybelline Eye Studio Color Tattoo 24HR Cream Gel Shadow ', 'price': '8.99', 'price_sign': None, 'currency': None, 'image_link': 'https://d3t32hsnjxo7q6.cloudfront.net/i/58d07d24e39142e0c5a178b00b6b31f1_ra,w158,h184_pa,w158,h184.png', 'product_link': 'https://well.ca/products/maybelline-eye-studio-color-tattoo_67270.html', 'website_link': 'https://well.ca', 'description': \"Dare to wear 24HR shadow!Maybelline's Color Tattoo Cream Gel \\nShadow uses ink technology for their most intense, long-lasting shimmery metallic shades\\ufeff. The cream formula glides on without creasing and keeps \\ncolour vibrant.Ophthalmologist-tested. Safe for sensitive eyes and contact lens wearers.\\n                    \\n                    \\n                    \\n                        \\n                        Shade Range: For best results: With \\nfingertips, sweep all over eye from inner corner and work outwards. For\\n added drama, darken as desired.\\xa0\\xa0\\xa0\\xa0\\xa0 \", 'rating': 4.0, 'category': None, 'product_type': 'eyeshadow', 'tag_list': [], 'created_at': '2016-10-01T18:30:01.223Z', 'updated_at': '2017-12-23T20:51:33.487Z', 'product_api_url': 'https://makeup-api.herokuapp.com/api/v1/products/273.json', 'api_featured_image': '//s3.amazonaws.com/donovanbailey/products/api_featured_images/000/000/273/original/open-uri20171223-4-ql025m?1514062293', 'product_colors': [{'hex_value': '#fdd3d2', 'colour_name': 'Inked in Pink (55) '}, {'hex_value': '#c5c7c8', 'colour_name': 'Silver Strike (60) '}, {'hex_value': '#f2caad', 'colour_name': 'Barely Branded (70) '}]}, {'id': 232, 'brand': 'maybelline', 'name': 'Maybelline Line Express Eyeliner', 'price': '7.29', 'price_sign': None, 'currency': None, 'image_link': 'https://d3t32hsnjxo7q6.cloudfront.net/i/4e88f928ad91c88e2ecb8596431ce799_ra,w158,h184_pa,w158,h184.png', 'product_link': 'https://well.ca/products/maybelline-line-express-eyeliner_9738.html', 'website_link': 'https://well.ca', 'description': \"Maybelline Line Express Eyeliner's intense color formula + smart tip smudger makes this liner glide on smoothly and is easy to apply with just one stroke.Features: Creamy formula delivers intense colorContour smudger makes blending easyAll-day wearSafe for sensitive eyes and ophthalmologist-testedContact lens safe\", 'rating': 4.5, 'category': 'pencil', 'product_type': 'eyeliner', 'tag_list': [], 'created_at': '2016-10-01T18:28:59.422Z', 'updated_at': '2017-12-23T20:51:31.255Z', 'product_api_url': 'https://makeup-api.herokuapp.com/api/v1/products/232.json', 'api_featured_image': '//s3.amazonaws.com/donovanbailey/products/api_featured_images/000/000/232/original/open-uri20171223-4-1gco531?1514062291', 'product_colors': []}, {'id': 230, 'brand': 'maybelline', 'name': 'Maybelline Unstoppable Eyeliner', 'price': '8.99', 'price_sign': None, 'currency': None, 'image_link': 'https://d3t32hsnjxo7q6.cloudfront.net/i/bab89a9fe13b34235e0dd1f4f44c05cf_ra,w158,h184_pa,w158,h184.png', 'product_link': 'https://well.ca/products/maybelline-unstoppable-eyeliner_3737.html', 'website_link': 'https://well.ca', 'description': 'Unstoppable Eyeliner allows ultra-smooth application for defined lines and eyes.\\nIt is a self-sharpening mechanical pencil, and will hold your look in place all day long.\\nWaterproof.\\nOphthalmologist tested, contact lens safe for sensitive eyes.\\n', 'rating': 4.3, 'category': 'pencil', 'product_type': 'eyeliner', 'tag_list': [], 'created_at': '2016-10-01T18:28:57.194Z', 'updated_at': '2017-12-23T20:51:30.858Z', 'product_api_url': 'https://makeup-api.herokuapp.com/api/v1/products/230.json', 'api_featured_image': '//s3.amazonaws.com/donovanbailey/products/api_featured_images/000/000/230/original/open-uri20171223-4-1noqhmg?1514062290', 'product_colors': [{'hex_value': '#736364', 'colour_name': 'Onyx '}, {'hex_value': '#797B7D', 'colour_name': 'Pewter '}]}, {'id': 225, 'brand': 'maybelline', 'name': 'Maybelline Color Show Kohl Liner', 'price': '5.99', 'price_sign': None, 'currency': None, 'image_link': 'https://d3t32hsnjxo7q6.cloudfront.net/i/c2fcd605bbf3941b521fb74bfa942ac6_ra,w158,h184_pa,w158,h184.png', 'product_link': 'https://well.ca/products/maybelline-color-show-kohl-liner_101020.html', 'website_link': 'https://well.ca', 'description': 'Maybelline Color Show Kohl Liner is the hottest new way to create statement eyes!The brightest colors. The easiest glide. Creamy, rich color has never \\nbeen this precise!', 'rating': None, 'category': 'pencil', 'product_type': 'eyeliner', 'tag_list': [], 'created_at': '2016-10-01T18:28:51.002Z', 'updated_at': '2017-12-23T20:51:29.742Z', 'product_api_url': 'https://makeup-api.herokuapp.com/api/v1/products/225.json', 'api_featured_image': '//s3.amazonaws.com/donovanbailey/products/api_featured_images/000/000/225/original/open-uri20171223-4-77bvjo?1514062289', 'product_colors': [{'hex_value': '#2e4064', 'colour_name': 'Beauty Blue '}, {'hex_value': '#56403a', 'colour_name': 'Chocolate Chip '}, {'hex_value': '#008687', 'colour_name': 'Edgy Emerald '}, {'hex_value': '#854f58', 'colour_name': 'Marvelous Maroon '}, {'hex_value': '#837163', 'colour_name': 'Sparkle Grey '}, {'hex_value': '#00849d', 'colour_name': 'Turquoise Flash '}, {'hex_value': '#000000', 'colour_name': 'Ultra Black '}, {'hex_value': '#574c7c', 'colour_name': 'Vibrant Violet '}]}, {'id': 221, 'brand': 'maybelline', 'name': 'Maybelline Eye Studio Master Graphic in Striking Black', 'price': '11.99', 'price_sign': None, 'currency': None, 'image_link': 'https://d3t32hsnjxo7q6.cloudfront.net/i/9c98f99f2033bb942286fa1bb32b4c51_ra,w158,h184_pa,w158,h184.png', 'product_link': 'https://well.ca/products/maybelline-eye-studio-master-graphic_112723.html', 'website_link': 'https://well.ca', 'description': 'Eye Studio Master Graphic Liquid Liner from Maybelline New York. Love the graphic look? This genius eyeliner automatically draws the boldest line with the sharpest edge! Features:Automatically draw the boldest line with the sharpest edgePitch black finishUse the flat side for bold line. Use the sharp tip for the edges', 'rating': None, 'category': 'liquid', 'product_type': 'eyeliner', 'tag_list': [], 'created_at': '2016-10-01T18:28:44.845Z', 'updated_at': '2017-12-23T20:51:28.186Z', 'product_api_url': 'https://makeup-api.herokuapp.com/api/v1/products/221.json', 'api_featured_image': '//s3.amazonaws.com/donovanbailey/products/api_featured_images/000/000/221/original/open-uri20171223-4-1v1tlhi?1514062288', 'product_colors': []}, {'id': 179, 'brand': 'maybelline', 'name': 'Maybelline EyeStudio Master Precise Ink Pen Eyeliner', 'price': '11.99', 'price_sign': None, 'currency': None, 'image_link': 'https://d3t32hsnjxo7q6.cloudfront.net/i/6edd2cadd1894a94f264ceb19f3d344b_ra,w158,h184_pa,w158,h184.png', 'product_link': 'https://well.ca/products/maybelline-eyestudio-master-precise_40535.html', 'website_link': 'https://well.ca', 'description': 'Experience the new generation of liquid liner from Maybelline! \\xa0\\xa0\\xa0\\xa0\\xa0\\xa0\\xa0\\xa0\\xa0\\xa0\\xa0\\xa0 Ink technology keeps pigments super-saturatedSpring cap keeps the formula freshMost precise line for lasting intensity\\xa0\\xa0\\xa0\\xa0\\xa0\\xa0\\xa0\\xa0\\xa0\\xa0\\xa0\\xa0\\xa0\\xa0\\xa0\\xa0\\xa0\\xa0\\xa0\\xa0\\xa0\\xa0\\xa0\\xa0\\xa0\\xa0\\xa0\\xa0\\xa0\\xa0\\xa0\\xa0\\xa0\\xa0\\xa0\\xa0\\xa0\\xa0\\xa0\\xa0\\xa0\\xa0\\xa0\\xa0\\xa0\\xa0\\xa0\\xa0\\xa0\\xa0 \\xa0Safe for sensitive eyes and ophthalmologist-testedContact lens safeFor Best Results: 1. Start at inner corner of upper eye. Flare outward. 2. Create the sharpest design, uniquely your own.', 'rating': 4.0, 'category': 'liquid', 'product_type': 'eyeliner', 'tag_list': [], 'created_at': '2016-10-01T18:27:51.862Z', 'updated_at': '2017-12-23T20:51:16.524Z', 'product_api_url': 'https://makeup-api.herokuapp.com/api/v1/products/179.json', 'api_featured_image': '//s3.amazonaws.com/donovanbailey/products/api_featured_images/000/000/179/original/open-uri20171223-4-1vi901o?1514062276', 'product_colors': []}, {'id': 177, 'brand': 'maybelline', 'name': 'Maybelline Line Stiletto Ultimate Precision Liquid Eyeliner', 'price': '10.29', 'price_sign': None, 'currency': None, 'image_link': 'https://d3t32hsnjxo7q6.cloudfront.net/i/350d6c6c2fa3add8ee40189cd19bfe0a_ra,w158,h184_pa,w158,h184.png', 'product_link': 'https://well.ca/products/maybelline-line-stiletto-ultimate_17295.html', 'website_link': 'https://well.ca', 'description': 'Easily Creates Slender Lines\\n\\n\\xa0\\xa0\\xa0 Rich, Even Color\\n\\xa0\\xa0\\xa0 All-Day Wear\\n\\xa0\\xa0\\xa0 Smooth Glide Felt Tip\\n\\xa0\\xa0\\xa0 Flexible tip guides on smoothly for the most precise control.\\n\\xa0\\xa0\\xa0 All-day wear up to 8 hours\\n', 'rating': 4.0, 'category': 'liquid', 'product_type': 'eyeliner', 'tag_list': [], 'created_at': '2016-10-01T18:27:50.155Z', 'updated_at': '2017-12-23T20:51:16.164Z', 'product_api_url': 'https://makeup-api.herokuapp.com/api/v1/products/177.json', 'api_featured_image': '//s3.amazonaws.com/donovanbailey/products/api_featured_images/000/000/177/original/open-uri20171223-4-p0eowt?1514062276', 'product_colors': [{'hex_value': '#000000', 'colour_name': 'Blackest Black '}, {'hex_value': '#4E2F2F', 'colour_name': 'Brown Black '}]}, {'id': 172, 'brand': 'maybelline', 'name': 'Maybelline Liquid Eyeliner', 'price': '10.99', 'price_sign': None, 'currency': None, 'image_link': 'https://d3t32hsnjxo7q6.cloudfront.net/i/316d25ac5676470d83612b9391678b0d_ra,w158,h184_pa,w158,h184.jpeg', 'product_link': 'https://well.ca/products/maybelline-liquid-eyeliner_3739.html', 'website_link': 'https://well.ca', 'description': '\\nWaterproof Liquid Eyeliner draws intense lining in an instant.\\nIt glides on smoothly for even coverage.\\nThe firm felt tip applicator allows easy control.\\nWaterproof, all-day wear.\\n', 'rating': 4.2, 'category': 'liquid', 'product_type': 'eyeliner', 'tag_list': [], 'created_at': '2016-10-01T18:27:44.166Z', 'updated_at': '2017-12-23T20:51:13.942Z', 'product_api_url': 'https://makeup-api.herokuapp.com/api/v1/products/172.json', 'api_featured_image': '//s3.amazonaws.com/donovanbailey/products/api_featured_images/000/000/172/original/data?1514062273', 'product_colors': [{'hex_value': '#06090A', 'colour_name': 'Black '}]}, {'id': 170, 'brand': 'maybelline', 'name': 'Maybelline Eye Studio Lasting Drama Gel Eyeliner', 'price': '11.99', 'price_sign': None, 'currency': None, 'image_link': 'https://d3t32hsnjxo7q6.cloudfront.net/i/2054f702d243c286219e0330af836bf5_ra,w158,h184_pa,w158,h184.png', 'product_link': 'https://well.ca/products/maybelline-eye-studio-lasting-drama_23247.html', 'website_link': 'https://well.ca', 'description': 'Maybelline Eye Studio Lasting Drama Gel Eyeliner gives you smudge-proof lines that are waterproof for 24 hours. Features:\\xa0 \\xa0\\xa0\\xa0\\xa0\\xa0\\xa0\\xa0\\xa0\\xa0 Oil-free formula holds highly concentrated pigments in a clear gel baseSmudge-proof and waterproof for 24 hoursMost intense line for lasting drama\\xa0\\xa0\\xa0\\xa0\\xa0\\xa0\\xa0\\xa0\\xa0\\xa0\\xa0\\xa0\\xa0\\xa0\\xa0\\xa0\\xa0\\xa0\\xa0\\xa0\\xa0\\xa0\\xa0\\xa0\\xa0\\xa0\\xa0\\xa0\\xa0\\xa0\\xa0\\xa0\\xa0\\xa0\\xa0\\xa0\\xa0\\xa0\\xa0\\xa0\\xa0\\xa0\\xa0\\xa0\\xa0\\xa0\\xa0\\xa0\\xa0\\xa0 \\xa0Safe for sensitive eyes and ophthalmologist-testedContact lens safe\\n\\t\\tRemoves easily with Expert Eyes® Moisturizing Eye Makeup Remover.Maybelline Eye Studio Lasting Drama Gel Eyeliner is one of our 10 Makeup Must Haves.\\xa0 See the full list on The Well.\\xa0 ', 'rating': 4.4, 'category': 'liquid', 'product_type': 'eyeliner', 'tag_list': [], 'created_at': '2016-10-01T18:27:42.507Z', 'updated_at': '2017-12-23T20:51:13.684Z', 'product_api_url': 'https://makeup-api.herokuapp.com/api/v1/products/170.json', 'api_featured_image': '//s3.amazonaws.com/donovanbailey/products/api_featured_images/000/000/170/original/open-uri20171223-4-1hy3kmf?1514062273', 'product_colors': [{'hex_value': '#000000', 'colour_name': 'Blackest Black 950 '}, {'hex_value': '#60423B', 'colour_name': 'Brown 952 '}, {'hex_value': '#4A484B', 'colour_name': 'Charcoal 954 '}]}, {'id': 146, 'brand': 'maybelline', 'name': 'Maybelline Color Show Nail Lacquer Jewels ', 'price': '4.49', 'price_sign': None, 'currency': None, 'image_link': 'https://d3t32hsnjxo7q6.cloudfront.net/i/f6239cbcd84fa838c461f020b86924aa_ra,w158,h184_pa,w158,h184.png', 'product_link': 'https://well.ca/products/maybelline-color-show-nail-lacquer_96730.html', 'website_link': 'https://well.ca', 'description': 'Maybelline Color Show Nail Lacquer Jewels collection features jeweled nail lacquer top coats straight from the shows!Features:Adorns your nails with textured gem effectsTrendy top coat nail art designsEasy-flow brushFormaldehyde, DBP and Toluene freeShade Range: (left to right: Mosaic Prism, Platinum Adorn)For Best Results:First apply a clear base coat to prevent your nails from yellowing and to help your nail color last longer. Choose a base shade and with one sweep, paint the first line of nail polish up the center of your nail starting from the base to the tip.For the cleanest look, be sure to leave a small space at the base of the nail. Then apply nail color to the rest of the nail. Pick your textured top coat and paint over your base shade for a street styled nail art look.', 'rating': 3.0, 'category': None, 'product_type': 'nail_polish', 'tag_list': [], 'created_at': '2016-10-01T18:26:51.778Z', 'updated_at': '2017-12-23T20:51:08.631Z', 'product_api_url': 'https://makeup-api.herokuapp.com/api/v1/products/146.json', 'api_featured_image': '//s3.amazonaws.com/donovanbailey/products/api_featured_images/000/000/146/original/open-uri20171223-4-fnr4hp?1514062268', 'product_colors': []}, {'id': 145, 'brand': 'maybelline', 'name': 'Maybelline Color Show Nail Lacquer Veils ', 'price': '4.49', 'price_sign': None, 'currency': None, 'image_link': 'https://d3t32hsnjxo7q6.cloudfront.net/i/64cbcfbd001435c3abc3d8f77c16a0bf_ra,w158,h184_pa,w158,h184.png', 'product_link': 'https://well.ca/products/maybelline-color-show-nail-lacquer_96731.html', 'website_link': 'https://well.ca', 'description': 'Maybelline Color Show Nail Lacquer Veils collection gives you subtle shimmers to refined glitters in colours straight from the shows!Features:Trendy top coat nail art designsEasy-flow brushFormaldehyde, DBP and Toluene freeShade Range: (left to right: Amethyst Aura, Rose Mirage, Crystal Disguise)For Best Results:First\\n apply a clear base coat to prevent your nails from yellowing and to \\nhelp your nail color last longer. Choose a base shade and with one \\nsweep, paint the first line of nail polish up the center of your nail \\nstarting from the base to the tip.For the cleanest look, be sure\\n to leave a small space at the base of the nail. Then apply nail color \\nto the rest of the nail. Pick your textured top coat and paint over your\\n base shade for a street styled nail art look.', 'rating': 4.0, 'category': None, 'product_type': 'nail_polish', 'tag_list': [], 'created_at': '2016-10-01T18:26:50.448Z', 'updated_at': '2017-12-23T20:51:08.413Z', 'product_api_url': 'https://makeup-api.herokuapp.com/api/v1/products/145.json', 'api_featured_image': '//s3.amazonaws.com/donovanbailey/products/api_featured_images/000/000/145/original/open-uri20171223-4-1a63bxt?1514062268', 'product_colors': [{'hex_value': '#394674', 'colour_name': 'Amethyst Aura '}]}, {'id': 133, 'brand': 'maybelline', 'name': 'Maybelline Color Show Nail Lacquer ', 'price': '4.49', 'price_sign': None, 'currency': None, 'image_link': 'https://d3t32hsnjxo7q6.cloudfront.net/i/a05aa31a7e30d9d262ae36d0be2c4f87_ra,w158,h184_pa,w158,h184.png', 'product_link': 'https://well.ca/products/maybelline-color-show-nail-lacquer_78068.html', 'website_link': 'https://well.ca', 'description': 'High fashion meets high-art. With Maybelline Color Show Nail Lacquer PolkaDots Collection you get 3D nail design for your fingertips!Features: \\nCreates Hollywood-worthy special effectsChip-resistant formula Easy-flow brushFormaldehyde, DBP and Toluene freeShade Range: \\n', 'rating': 3.3, 'category': None, 'product_type': 'nail_polish', 'tag_list': [], 'created_at': '2016-10-01T18:26:31.673Z', 'updated_at': '2017-12-23T20:51:05.961Z', 'product_api_url': 'https://makeup-api.herokuapp.com/api/v1/products/133.json', 'api_featured_image': '//s3.amazonaws.com/donovanbailey/products/api_featured_images/000/000/133/original/open-uri20171223-4-zz1pau?1514062265', 'product_colors': [{'hex_value': '#037679', 'colour_name': 'Drops of Jade  (55) '}]}, {'id': 97, 'brand': 'maybelline', 'name': 'Maybelline Color Sensational Vivid Matte Liquid Lip Colour', 'price': '12.99', 'price_sign': None, 'currency': None, 'image_link': 'https://d3t32hsnjxo7q6.cloudfront.net/i/d0b6855d9b603a00f776de498c971b88_ra,w158,h184_pa,w158,h184.png', 'product_link': 'https://well.ca/products/maybelline-color-sensational-vivid_114538.html', 'website_link': 'https://well.ca', 'description': 'Bold, vivid color glides easily onto lips for a velvety matte finish with Maybelline Color Sensational Vivid Matte Liquid Lip Colour. \\nFormula is comfortable and creamy with a smooth feel upon application. \\nWith full color coverage, the result is a rich, intense lip look in a \\nrange of colors from Nude Flush to Electric Pink to Vivid Violet.Features: Lip color glides on smooth to a matte finishInfused with pure pigments for high-impact colorCreamy liquid base for a soft, cushiony feel', 'rating': None, 'category': 'lipstick', 'product_type': 'lipstick', 'tag_list': [], 'created_at': '2016-10-01T18:25:33.281Z', 'updated_at': '2017-12-23T20:50:59.331Z', 'product_api_url': 'https://makeup-api.herokuapp.com/api/v1/products/97.json', 'api_featured_image': '//s3.amazonaws.com/donovanbailey/products/api_featured_images/000/000/097/original/open-uri20171223-4-128aihq?1514062259', 'product_colors': [{'hex_value': '#AC7773', 'colour_name': 'Nude Thrill '}, {'hex_value': '#BD7A80', 'colour_name': 'Nude Flush '}, {'hex_value': '#D65F84', 'colour_name': 'Pink Charge '}, {'hex_value': '#D73D8C', 'colour_name': 'Electric Pink '}, {'hex_value': '#B12156', 'colour_name': 'Fuchsia Ecstasy '}, {'hex_value': '#BC2830', 'colour_name': 'Orange Shot '}, {'hex_value': '#B7233B', 'colour_name': 'Rebel Red '}, {'hex_value': '#8C1F48', 'colour_name': 'Berry Boost '}, {'hex_value': '#542A71', 'colour_name': 'Vivid Violet '}, {'hex_value': '#300B28', 'colour_name': 'Possessed Plum '}]}, {'id': 89, 'brand': 'maybelline', 'name': 'Maybelline Color Sensational Rebel Bloom Lipcolour ', 'price': '9.99', 'price_sign': None, 'currency': None, 'image_link': 'https://d3t32hsnjxo7q6.cloudfront.net/i/fb9e6485500135d94163577da4c3579b_ra,w158,h184_pa,w158,h184.png', 'product_link': 'https://well.ca/products/maybelline-color-sensational-rebel_101920.html', 'website_link': 'https://well.ca', 'description': '\\n                       \\n\\tMaybelline Color Sensational® Rebel Bloom lipstick offers vivacious pastels in a super-saturated lipcolour. Enjoy the kicky bouquet of lip colors in \\npinks, reds and mauves.  Features:Super-saturated pigments take fresh picked pastels to a new bright\\nNever dull, washed out or shy\\nHoney nectar adds a sumptuous feel\\n\\n\\t\\tApplication: Apply lipcolor starting in the center of your upper lip. Work\\n from the center to the outer edges of your lip, following the contours \\nof your mouth. Then glide across the entire bottom lip.\\n\\n\\t\\t\\n\\t\\n\\n                    ', 'rating': 3.0, 'category': 'lipstick', 'product_type': 'lipstick', 'tag_list': [], 'created_at': '2016-10-01T18:25:20.981Z', 'updated_at': '2017-12-23T20:50:59.663Z', 'product_api_url': 'https://makeup-api.herokuapp.com/api/v1/products/89.json', 'api_featured_image': '//s3.amazonaws.com/donovanbailey/products/api_featured_images/000/000/089/original/open-uri20171223-4-pkrmxd?1514062259', 'product_colors': [{'hex_value': '#db967f', 'colour_name': 'Barely Bloomed '}, {'hex_value': '#d37d79', 'colour_name': 'Blushing Bud '}, {'hex_value': '#f05b4a', 'colour_name': 'Coral Burst '}, {'hex_value': '#cd86b0', 'colour_name': 'Lilac Flush '}, {'hex_value': '#ff8f9d', 'colour_name': 'Petal Pink '}, {'hex_value': '#bd2629', 'colour_name': 'Rose Rush '}]}, {'id': 85, 'brand': 'maybelline', 'name': 'Maybelline Lip Studio Color Blur ', 'price': '11.99', 'price_sign': None, 'currency': None, 'image_link': 'https://d3t32hsnjxo7q6.cloudfront.net/i/a1151b59f69491a75d9f8d80827bc1ee_ra,w158,h184_pa,w158,h184.png', 'product_link': 'https://well.ca/products/maybelline-lip-studio-color-blur_106565.html', 'website_link': 'https://well.ca', 'description': \"Maybelline's Lip Studio Color Blur is a unique cream matte pencil with vivid colour.\\xa0 The blurring smudger allows you to create your look from full on bold to softly blurred.Features:The cream matte pencil feels extremely smooth and comfortable on lips The blurring smudger means you can create your own looks from full-on bold to softly blurredColor Blur comes in many shades ranging from vivids to neutralsHow to Use: To achieve the softly blurred look, apply colour in the center of your top and bottom lips. Using the smudger, gently blur the colour out towards the edges of your top lip and then bottom lip.\", 'rating': None, 'category': 'lipstick', 'product_type': 'lipstick', 'tag_list': [], 'created_at': '2016-10-01T18:25:14.865Z', 'updated_at': '2017-12-23T20:50:59.009Z', 'product_api_url': 'https://makeup-api.herokuapp.com/api/v1/products/85.json', 'api_featured_image': '//s3.amazonaws.com/donovanbailey/products/api_featured_images/000/000/085/original/open-uri20171223-4-1cl0hgq?1514062258', 'product_colors': [{'hex_value': '#EF6E87', 'colour_name': 'Berry Misbehaved '}, {'hex_value': '#CF444B', 'colour_name': 'Cherry Cherry Bang Bang  '}, {'hex_value': '#FF94A7', 'colour_name': 'Fast & Fuchsia  '}, {'hex_value': '#E18CB0', 'colour_name': 'I Like to Mauve It '}, {'hex_value': '#F393B0', 'colour_name': \"I'm Blushing! \"}, {'hex_value': '#C06E8A', 'colour_name': 'My-My Magenta '}, {'hex_value': '#B42F3F', 'colour_name': 'Partner in Crimson  '}, {'hex_value': '#FF99DC', 'colour_name': 'Pink Insanity  '}, {'hex_value': '#955C69', 'colour_name': 'Plum, Please '}]}, {'id': 73, 'brand': 'maybelline', 'name': 'Maybelline Color Sensational The Buffs Lipcolour', 'price': '9.99', 'price_sign': None, 'currency': None, 'image_link': 'https://d3t32hsnjxo7q6.cloudfront.net/i/27afa69db661563a1d6135bb5f6079dd_ra,w158,h184_pa,w158,h184.png', 'product_link': 'https://well.ca/products/maybelline-color-sensational-the_88857.html', 'website_link': 'https://well.ca', 'description': 'Raw. Real. Pigments explode with sensuous impact…sensational! Maybelline Color Sensational The Buffs Lipcolour have true nude lip color pigments for honest flesh tone color. This range has it all, from blushing beige, to bronze, to espresso.\\n\\t\\tFor Best Results: Apply your nude lip color lipstick by starting in the center \\nof your upper lip. Work from the center to the outer edges of your lip, \\nfollowing the contours of your mouth. Then glide across the entire \\nbottom lipShade Range: \\n\\t\\n\\n                    ', 'rating': 4.8, 'category': 'lipstick', 'product_type': 'lipstick', 'tag_list': [], 'created_at': '2016-10-01T18:24:56.389Z', 'updated_at': '2017-12-23T20:51:18.174Z', 'product_api_url': 'https://makeup-api.herokuapp.com/api/v1/products/73.json', 'api_featured_image': '//s3.amazonaws.com/donovanbailey/products/api_featured_images/000/000/073/original/open-uri20171223-4-92movw?1514062278', 'product_colors': [{'hex_value': '#E3A28C', 'colour_name': 'Bare All '}, {'hex_value': '#EB907D', 'colour_name': 'Blushing Beige '}, {'hex_value': '#DD8A78', 'colour_name': 'Nude Lust '}, {'hex_value': '#A95D50', 'colour_name': 'Maple Kiss '}, {'hex_value': '#E2937F', 'colour_name': 'Truffle Tease  '}, {'hex_value': '#D47661', 'colour_name': 'Stormy Sahara '}, {'hex_value': '#8A3938', 'colour_name': 'Untainted Spice '}, {'hex_value': '#590004', 'colour_name': 'Expresso Exposed  '}]}, {'id': 72, 'brand': 'maybelline', 'name': 'Maybelline Color Sensational Vivids Lipcolour', 'price': '9.99', 'price_sign': None, 'currency': None, 'image_link': 'https://d3t32hsnjxo7q6.cloudfront.net/i/0d31f41c37fd18dfc02daa1671719378_ra,w158,h184_pa,w158,h184.png', 'product_link': 'https://well.ca/products/maybelline-color-sensational-vivids_66103.html', 'website_link': 'https://well.ca', 'description': \"With Maybelline Colour Sensational Vivids Lipcolour bright goes gorgeous, never garish!Get brighter color from Maybelline's exclusive vivid pigments.\\ufeff Plus get creamier feel from nourishing honey nectar.\\ufeff Features: Be bright and gorgeousExclusive Vivid colors are brighterHoney nectar formula nourishes lips\\ufeffFor Best Results: Apply lipcolor starting in the center of your upper lip. Work from the center to the outer edges of your lip, following the contours of your mouth. Then glide across the entire bottom lip.\\ufeffShade Range: \", 'rating': 5.0, 'category': 'lipstick', 'product_type': 'lipstick', 'tag_list': [], 'created_at': '2016-10-01T18:24:55.093Z', 'updated_at': '2017-12-23T20:50:55.568Z', 'product_api_url': 'https://makeup-api.herokuapp.com/api/v1/products/72.json', 'api_featured_image': '//s3.amazonaws.com/donovanbailey/products/api_featured_images/000/000/072/original/open-uri20171223-4-jaz2h8?1514062255', 'product_colors': [{'hex_value': '#f9005b', 'colour_name': 'Vivid Rose (825) '}, {'hex_value': '#ff2e8c', 'colour_name': 'Fuchsia Flash (865) '}, {'hex_value': '#ff4a62', 'colour_name': 'Shocking Coral (870) '}, {'hex_value': '#ff3b00', 'colour_name': 'Electric Orange (880) '}, {'hex_value': '#ff6ab6', 'colour_name': 'Pink Pop (880) '}, {'hex_value': '#ba0000', 'colour_name': 'On Fire Red (895) '}]}, {'id': 69, 'brand': 'maybelline', 'name': 'Maybelline Color Sensational Creamy Mattes Lipcolour ', 'price': '9.99', 'price_sign': None, 'currency': None, 'image_link': 'https://d3t32hsnjxo7q6.cloudfront.net/i/81fd80f898674d00f1860cd0724460f4_ra,w158,h184_pa,w158,h184.png', 'product_link': 'https://well.ca/products/maybelline-color-sensational-creamy_100322.html', 'website_link': 'https://well.ca', 'description': 'Maybelline Creamy Mattes by Color Sensational deliver a burst of bold lip color and a surge of creamy texture in great make-a-statement shades, for mattes your lips will love to wear!Features: Lips slip into this creamy matteMattifying cream pure pigments and three precious oilsMake-a-statement shades', 'rating': 5.0, 'category': 'lipstick', 'product_type': 'lipstick', 'tag_list': [], 'created_at': '2016-10-01T18:24:51.748Z', 'updated_at': '2017-12-23T20:50:56.946Z', 'product_api_url': 'https://makeup-api.herokuapp.com/api/v1/products/69.json', 'api_featured_image': '//s3.amazonaws.com/donovanbailey/products/api_featured_images/000/000/069/original/open-uri20171223-4-uyvfh1?1514062256', 'product_colors': [{'hex_value': '#ff1303', 'colour_name': 'Craving Coral '}, {'hex_value': '#e87e74', 'colour_name': 'Daringly Nude '}, {'hex_value': '#ff2f99', 'colour_name': 'Faint For Fuchsia '}, {'hex_value': '#db5c83', 'colour_name': 'Lust for Blush '}, {'hex_value': '#ec0064', 'colour_name': 'Mesmerizing Magenta '}, {'hex_value': '#f5367d', 'colour_name': 'Ravishing Rose (Bright Rose Pink) '}, {'hex_value': '#b63849', 'colour_name': 'Touch of Spice '}]}, {'id': 65, 'brand': 'maybelline', 'name': 'Maybelline Color Sensational Lipcolour', 'price': '9.99', 'price_sign': None, 'currency': None, 'image_link': 'https://d3t32hsnjxo7q6.cloudfront.net/i/b1c627d5a7e341e53754c8dee92d2878_ra,w158,h184_pa,w158,h184.png', 'product_link': 'https://well.ca/products/maybelline-color-sensational_14537.html', 'website_link': 'https://well.ca', 'description': 'Maybelline Colour Sensational Lipcolour will make you fall in love with color, all over again! Features: \\n\\nCrisper color from pure pigments \\nCreamier feel from nourishing honey nectar \\nLipcolor so rich, so stunning… it’s sensational Incredible colour range, from pinks, plums, reds and bronze\\n\\n\\xa0', 'rating': 4.2, 'category': 'lipstick', 'product_type': 'lipstick', 'tag_list': [], 'created_at': '2016-10-01T18:24:44.446Z', 'updated_at': '2017-12-23T20:50:57.314Z', 'product_api_url': 'https://makeup-api.herokuapp.com/api/v1/products/65.json', 'api_featured_image': '//s3.amazonaws.com/donovanbailey/products/api_featured_images/000/000/065/original/open-uri20171223-4-f2n6t8?1514062257', 'product_colors': [{'hex_value': '#E70C2F', 'colour_name': 'Are you Red-dy '}, {'hex_value': '#DF8A82', 'colour_name': 'Born With It '}, {'hex_value': '#F15B50', 'colour_name': 'Coral Crush '}, {'hex_value': '#8F332C', 'colour_name': 'Crazy for Coffee '}, {'hex_value': '#CA6E6B', 'colour_name': 'Warm Me Up '}]}, {'id': 42, 'brand': 'maybelline', 'name': \"Maybelline Volum'Express Falsies Big Eyes Mascara\", 'price': '12.99', 'price_sign': None, 'currency': None, 'image_link': 'https://d3t32hsnjxo7q6.cloudfront.net/i/a28e1387642c86f2d2e0cf446b2137aa_ra,w158,h184_pa,w158,h184.png', 'product_link': 'https://well.ca/products/maybelline-volumexpress-falsies-big_78175.html', 'website_link': 'https://well.ca', 'description': '2 brushes. 2x more impact!Now get bigger eyes with 360 degrees of false \\nlash glam volume! Upper lashes get over-the-top glam with the upper \\nbrush, while the lower brush grabs every tiny lower lash for a full \\ncircle effect.For best results: Apply the Upper Brush against the top lid lashes and sweep from\\n root to tip until a clean, voluminous look is achieved, followed by the\\n lower lash line using the lower Micro Brush. Do not let dry between \\ncoats. Removes easily with soap and water or with Maybelline® Clean \\nExpress!™ Classic Eye Makeup Remover.\\n', 'rating': 4.5, 'category': None, 'product_type': 'mascara', 'tag_list': [], 'created_at': '2016-10-01T18:11:34.910Z', 'updated_at': '2017-12-23T20:50:53.492Z', 'product_api_url': 'https://makeup-api.herokuapp.com/api/v1/products/42.json', 'api_featured_image': '//s3.amazonaws.com/donovanbailey/products/api_featured_images/000/000/042/original/open-uri20171223-4-b55ku9?1514062253', 'product_colors': [{'hex_value': '#000000', 'colour_name': 'Blackest Black '}]}, {'id': 32, 'brand': 'maybelline', 'name': 'Maybelline Define-A-Lash Lengthening & Defining Mascara', 'price': '10.79', 'price_sign': None, 'currency': None, 'image_link': 'https://d3t32hsnjxo7q6.cloudfront.net/i/cf9136ade1dd304b8cb81deb4b87e333_ra,w158,h184_pa,w158,h184.jpeg', 'product_link': 'https://well.ca/products/maybelline-define-a-lash-lengthening_3744.html', 'website_link': 'https://well.ca', 'description': 'Define-A-Lash Lengthening & Defining Mascara is a zero-clump mascara that creates stunning length and clean definition.\\xa0The flexible brush is shaped to the lash to elongate and define lashes, one by one. The built-in wiper contours brush to remove excess formula, ensuring clean deposit on lashes. There is no smudging, smearing or flaking, and the smooth, lightweight formula feels comfortable on lashes.Allergy tested, ophthalmologist tested and contact lens safe.\\n\\n', 'rating': 4.4, 'category': None, 'product_type': 'mascara', 'tag_list': [], 'created_at': '2016-10-01T18:11:22.926Z', 'updated_at': '2017-12-23T20:31:52.284Z', 'product_api_url': 'https://makeup-api.herokuapp.com/api/v1/products/32.json', 'api_featured_image': '//s3.amazonaws.com/donovanbailey/products/api_featured_images/000/000/032/original/data?1514061112', 'product_colors': [{'hex_value': '#000000', 'colour_name': 'Very Black '}]}, {'id': 29, 'brand': 'maybelline', 'name': 'Maybelline Great Lash - Clear', 'price': '7.79', 'price_sign': None, 'currency': None, 'image_link': 'https://d3t32hsnjxo7q6.cloudfront.net/i/6cce75ce02a6694e1c89f7d5a68c8174_ra,w158,h184_pa,w158,h184.png', 'product_link': 'https://well.ca/products/maybelline-great-lash-clear_3752.html', 'website_link': 'https://well.ca', 'description': 'Great Lash Clear Washable Mascara is a crystal clear formula that gives a softer, fuller look.The gentle brush separates lashes into a perfect fan. It contains panthenol to condition lashes, glycerin for a soft feel. This is great for shaping and setting brows. Contact lens safe, opthalmologist tested.\\n\\xa0', 'rating': 3.8, 'category': None, 'product_type': 'mascara', 'tag_list': [], 'created_at': '2016-10-01T18:11:20.042Z', 'updated_at': '2017-12-23T20:31:51.787Z', 'product_api_url': 'https://makeup-api.herokuapp.com/api/v1/products/29.json', 'api_featured_image': '//s3.amazonaws.com/donovanbailey/products/api_featured_images/000/000/029/original/open-uri20171223-4-14f14ix?1514061111', 'product_colors': []}, {'id': 23, 'brand': 'maybelline', 'name': 'Maybelline Great Lash Big Mascara', 'price': '7.79', 'price_sign': None, 'currency': None, 'image_link': 'https://d3t32hsnjxo7q6.cloudfront.net/i/0795abd7feaf855f88055e181652d65a_ra,w158,h184_pa,w158,h184.jpeg', 'product_link': 'https://well.ca/products/maybelline-great-lash-big-mascara_15818.html', 'website_link': 'https://well.ca', 'description': 'Live Big! Great Lash Big has a Bigger Brush for Great Big Live-It-Up Lashes!\\n\\nThe Great Big Brush provides a bigger, bolder lash effect\\nGreat buildable formula still conditions as it thickens with even greater intensity\\nNo clumps or globs\\n', 'rating': 4.0, 'category': None, 'product_type': 'mascara', 'tag_list': [], 'created_at': '2016-10-01T18:11:13.293Z', 'updated_at': '2017-12-23T20:31:49.724Z', 'product_api_url': 'https://makeup-api.herokuapp.com/api/v1/products/23.json', 'api_featured_image': '//s3.amazonaws.com/donovanbailey/products/api_featured_images/000/000/023/original/data?1514061109', 'product_colors': [{'hex_value': '#000000', 'colour_name': 'Blackest Black '}, {'hex_value': '#120C0A', 'colour_name': 'Brownish Black '}, {'hex_value': '#0E0F11', 'colour_name': 'Very Black '}]}, {'id': 20, 'brand': 'maybelline', 'name': 'Maybelline Great Lash Mascara', 'price': '7.79', 'price_sign': None, 'currency': None, 'image_link': 'https://d3t32hsnjxo7q6.cloudfront.net/i/6b4d354890177a73b4d6630d723c2f21_ra,w158,h184_pa,w158,h184.jpeg', 'product_link': 'https://well.ca/products/maybelline-great-lash-mascara_3735.html', 'website_link': 'https://well.ca', 'description': \"Great Lash Waterproof Mascara conditions as it thickens lashes. The lash-doubling formula glides on smoothly to build great-looking smudge-proof lashes. The lash-building brush makes it easy to get a full lash look without clumps. Hypoallergenic and contact lens safe.\\nAllure 2008 Reader's Choice Award Winner for drugstore mascara.\\n\", 'rating': 4.2, 'category': None, 'product_type': 'mascara', 'tag_list': [], 'created_at': '2016-10-01T18:11:09.921Z', 'updated_at': '2017-12-23T20:31:50.950Z', 'product_api_url': 'https://makeup-api.herokuapp.com/api/v1/products/20.json', 'api_featured_image': '//s3.amazonaws.com/donovanbailey/products/api_featured_images/000/000/020/original/data?1514061110', 'product_colors': [{'hex_value': '#120C0A', 'colour_name': 'Brownish Black '}, {'hex_value': '#0E0F11', 'colour_name': 'Very Black '}]}, {'id': 14, 'brand': 'maybelline', 'name': \"Maybelline Volum' Express Colossal Mascara\", 'price': '9.79', 'price_sign': None, 'currency': None, 'image_link': 'https://d3t32hsnjxo7q6.cloudfront.net/i/5d6e0d96f6dedbc3aadd88d9403cb26e_ra,w158,h184_pa,w158,h184.jpeg', 'product_link': 'https://well.ca/products/maybelline-volum-express-colossal_7663.html', 'website_link': 'https://well.ca', 'description': \"Why You'll Love It\\n\\nCreates 9X the volume, instantly.\\nPatented MegaBrush + Collagen Formula plump lashes one by one \\nDramatic Volume with no clumps \\nWashable \\n\", 'rating': 4.5, 'category': None, 'product_type': 'mascara', 'tag_list': [], 'created_at': '2016-10-01T18:11:01.516Z', 'updated_at': '2017-12-23T20:31:48.510Z', 'product_api_url': 'https://makeup-api.herokuapp.com/api/v1/products/14.json', 'api_featured_image': '//s3.amazonaws.com/donovanbailey/products/api_featured_images/000/000/014/original/data?1514061108', 'product_colors': [{'hex_value': '#0D090A', 'colour_name': 'Classic Black '}, {'hex_value': '#000000', 'colour_name': 'Glam Black '}]}, {'id': 12, 'brand': 'maybelline', 'name': 'Maybelline Illegal Length Fiber Extensions Mascara', 'price': '11.49', 'price_sign': None, 'currency': None, 'image_link': 'https://d3t32hsnjxo7q6.cloudfront.net/i/086bd6bba51f630f60511cdc24c68096_ra,w158,h184_pa,w158,h184.jpeg', 'product_link': 'https://well.ca/products/maybelline-illegal-length-fiber_84357.html', 'website_link': 'https://well.ca', 'description': 'Build 4mm of measurable extensions! Features: Fiber-fix brush has 6 different contact points with each lash for optimal fiber placementBreakthrough formula contains fibers up to 4mm in lengthSealing formula stretches lashes and seals fibers to lashesWashable, also available in waterproof formula\\xa0\\nFor Best Results: Extend lashes upward with Fiber-Fix brush, from root to tip. \\nOnly a few strokes necessary. For best results, do not let dry between \\ncoats.\\xa0 Removes easily with soap and water or Maybelline® Expert Eyes® \\n100% Oil-Free Eye Makeup Remover.\\n', 'rating': 4.0, 'category': None, 'product_type': 'mascara', 'tag_list': [], 'created_at': '2016-10-01T18:10:59.587Z', 'updated_at': '2017-12-23T20:31:48.155Z', 'product_api_url': 'https://makeup-api.herokuapp.com/api/v1/products/12.json', 'api_featured_image': '//s3.amazonaws.com/donovanbailey/products/api_featured_images/000/000/012/original/data?1514061108', 'product_colors': [{'hex_value': '#000000', 'colour_name': 'Blackest Black '}]}, {'id': 11, 'brand': 'maybelline', 'name': \"Maybelline Volum' Express The Rocket Mascara\", 'price': '10.99', 'price_sign': None, 'currency': None, 'image_link': 'https://d3t32hsnjxo7q6.cloudfront.net/i/0b04408a84154f14800e4c9477f8a924_ra,w158,h184_pa,w158,h184.png', 'product_link': 'https://well.ca/products/maybelline-volum-express-the-rocket_84350.html', 'website_link': 'https://well.ca', 'description': \"Explosive Volume in Rocket Time! 8X Bigger, Smoother.\\n\\nNow, the most explosive, beautiful lashes ever! Maybelline's patented supersonic \\nbrush with micro bristles loads on big, sleek volume instantly.\\n\\nThe fast-glide formula keeps lashes smooth. Zero clumps!\", 'rating': None, 'category': None, 'product_type': 'mascara', 'tag_list': [], 'created_at': '2016-10-01T18:10:58.856Z', 'updated_at': '2017-12-23T20:31:47.966Z', 'product_api_url': 'https://makeup-api.herokuapp.com/api/v1/products/11.json', 'api_featured_image': '//s3.amazonaws.com/donovanbailey/products/api_featured_images/000/000/011/original/open-uri20171223-4-iiztlg?1514061107', 'product_colors': [{'hex_value': '#000000', 'colour_name': 'Blackest Black '}, {'hex_value': '#202020', 'colour_name': 'Very Black '}]}, {'id': 9, 'brand': 'maybelline', 'name': 'Maybelline Great Lash Lots of Lashes Mascara', 'price': '7.79', 'price_sign': None, 'currency': None, 'image_link': 'https://d3t32hsnjxo7q6.cloudfront.net/i/dfaf77464a8cb52a1a8f2a15e8abf920_ra,w158,h184_pa,w158,h184.png', 'product_link': 'https://well.ca/products/maybelline-great-lash-lots-of-lashes_50739.html', 'website_link': 'https://well.ca', 'description': 'Introducing a Great Lash innovation - Great Lash Lots of Lashes!The favourite Maybelline mascara now gives the look of more lashes than ever, thanks to the exclusive Great Little Grabber Brush. In just one swipe, the Grabber Brush easily reaches all lashes - even \\nin the corners - for a multiplied lash look without the clumps. The result? Great lashes with lots of impact and not a lot of work.For best results: sweep brush from root to \\ntip of lashes. Continue building volume until the desired lash look is \\nachieved. Do not let dry between coats. Removes easily with soap and \\nwater or eye makeup remover. \\n                    ', 'rating': 4.2, 'category': None, 'product_type': 'mascara', 'tag_list': [], 'created_at': '2016-10-01T18:10:56.475Z', 'updated_at': '2017-12-23T20:31:47.757Z', 'product_api_url': 'https://makeup-api.herokuapp.com/api/v1/products/9.json', 'api_featured_image': '//s3.amazonaws.com/donovanbailey/products/api_featured_images/000/000/009/original/open-uri20171223-4-axycg0?1514061107', 'product_colors': [{'hex_value': '#000000', 'colour_name': 'Blackest Black '}, {'hex_value': '#2d1e17', 'colour_name': 'Brownish Black '}]}, {'id': 8, 'brand': 'maybelline', 'name': 'Maybelline Lash Stiletto Ultimate Length Mascara', 'price': '10.99', 'price_sign': None, 'currency': None, 'image_link': 'https://d3t32hsnjxo7q6.cloudfront.net/i/812b5ae27df9be983052063d52d7ab7a_ra,w158,h184_pa,w158,h184.jpeg', 'product_link': 'https://well.ca/products/maybelline-lash-stiletto-ultimate_17287.html', 'website_link': 'https://well.ca', 'description': 'The only mascara that does for lashes what stilettos do for legs.\\n\\n\\xa0\\xa0\\xa0 The Grip & Extend brush grasps each lash and coats from every angle\\n\\xa0\\xa0\\xa0 Elastic formula stretches lashes for provocative length\\n\\xa0\\xa0\\xa0 Pro-Vitamin B-5 formula conditions and smoothes for black-patent shine\\n\\xa0\\xa0\\xa0 Contact lens safe and Ophthalmologist tested\\n\\xa0\\xa0\\xa0 Waterproof \\n\\n\\xa0', 'rating': 4.0, 'category': None, 'product_type': 'mascara', 'tag_list': [], 'created_at': '2016-10-01T18:10:55.406Z', 'updated_at': '2017-12-23T20:31:47.606Z', 'product_api_url': 'https://makeup-api.herokuapp.com/api/v1/products/8.json', 'api_featured_image': '//s3.amazonaws.com/donovanbailey/products/api_featured_images/000/000/008/original/data?1514061107', 'product_colors': [{'hex_value': '#0E0F11', 'colour_name': 'Very Black '}]}, {'id': 7, 'brand': 'maybelline', 'name': \"Maybelline Volum'Express the Falsies Mascara\", 'price': '9.79', 'price_sign': None, 'currency': None, 'image_link': 'https://d3t32hsnjxo7q6.cloudfront.net/i/af1f35f15ee64cc1003f1ccfc6451d71_ra,w158,h184_pa,w158,h184.jpeg', 'product_link': 'https://well.ca/products/maybelline-volumexpress-the-falsies_26311.html', 'website_link': 'https://well.ca', 'description': 'False lash glam in a tube, instantly!The Falsies Mascara delivers a false lash look, giving you a full set of voluminous, bold, fanned-out lashes and the appearance of no gaps from any angle.The Pro-Keratin Fiber enriched formula is designed to deliver immediate results, distributing volume and visible intensity to your lashes. The spoon-shaped brush helps fan lashes out.The Falsies Mascara is designed to give the appearance of no gaps and spaces. In a wink, lashes you didn’t even know you had look visibly thickened!', 'rating': 4.0, 'category': None, 'product_type': 'mascara', 'tag_list': [], 'created_at': '2016-10-01T18:10:54.660Z', 'updated_at': '2017-12-23T20:31:47.473Z', 'product_api_url': 'https://makeup-api.herokuapp.com/api/v1/products/7.json', 'api_featured_image': '//s3.amazonaws.com/donovanbailey/products/api_featured_images/000/000/007/original/data?1514061107', 'product_colors': [{'hex_value': '#0E0F11', 'colour_name': 'Very Black '}]}]\n",
      "    id       brand                                               name  price  \\\n",
      "0  495  maybelline  Maybelline Face Studio Master Hi-Light Light B...  14.99   \n",
      "1  488  maybelline                          Maybelline Fit Me Bronzer  10.29   \n",
      "2  477  maybelline           Maybelline Facestudio Master Contour Kit  15.99   \n",
      "3  468  maybelline  Maybelline Face Studio Master Hi-Light Light B...  14.99   \n",
      "4  452  maybelline  Maybelline Face Studio Master Hi-Light Light B...  14.99   \n",
      "\n",
      "  price_sign currency                                         image_link  \\\n",
      "0       None     None  https://d3t32hsnjxo7q6.cloudfront.net/i/991799...   \n",
      "1       None     None  https://d3t32hsnjxo7q6.cloudfront.net/i/d4f7d8...   \n",
      "2       None     None  https://d3t32hsnjxo7q6.cloudfront.net/i/4f731d...   \n",
      "3       None     None  https://d3t32hsnjxo7q6.cloudfront.net/i/462103...   \n",
      "4       None     None  https://d3t32hsnjxo7q6.cloudfront.net/i/e8c59b...   \n",
      "\n",
      "                                        product_link     website_link  \\\n",
      "0  https://well.ca/products/maybelline-face-studi...  https://well.ca   \n",
      "1  https://well.ca/products/maybelline-fit-me-bro...  https://well.ca   \n",
      "2  https://well.ca/products/maybelline-facestudio...  https://well.ca   \n",
      "3  https://well.ca/products/maybelline-face-studi...  https://well.ca   \n",
      "4  https://well.ca/products/maybelline-face-studi...  https://well.ca   \n",
      "\n",
      "                                         description  rating category  \\\n",
      "0  Maybelline Face Studio Master Hi-Light Light B...     5.0     None   \n",
      "1  Why You'll Love It\\n\\nLightweight pigments ble...     4.5     None   \n",
      "2  Maybelline Facestudio Master Contour Kit is th...     NaN     None   \n",
      "3  Maybelline Face Studio Master Hi-Light Light B...     NaN   powder   \n",
      "4  Maybelline Face Studio Master Hi-Light Light B...     5.0   powder   \n",
      "\n",
      "  product_type tag_list                created_at                updated_at  \\\n",
      "0      bronzer       []  2016-10-01T18:36:15.012Z  2017-12-23T21:08:50.624Z   \n",
      "1      bronzer       []  2016-10-01T18:36:05.584Z  2017-12-23T21:08:49.985Z   \n",
      "2      bronzer       []  2016-10-01T18:35:40.504Z  2017-12-23T21:08:48.157Z   \n",
      "3        blush       []  2016-10-01T18:35:27.706Z  2017-12-23T21:08:47.102Z   \n",
      "4        blush       []  2016-10-01T18:35:07.476Z  2017-12-23T20:51:17.460Z   \n",
      "\n",
      "                                     product_api_url  \\\n",
      "0  https://makeup-api.herokuapp.com/api/v1/produc...   \n",
      "1  https://makeup-api.herokuapp.com/api/v1/produc...   \n",
      "2  https://makeup-api.herokuapp.com/api/v1/produc...   \n",
      "3  https://makeup-api.herokuapp.com/api/v1/produc...   \n",
      "4  https://makeup-api.herokuapp.com/api/v1/produc...   \n",
      "\n",
      "                                  api_featured_image  \\\n",
      "0  //s3.amazonaws.com/donovanbailey/products/api_...   \n",
      "1  //s3.amazonaws.com/donovanbailey/products/api_...   \n",
      "2  //s3.amazonaws.com/donovanbailey/products/api_...   \n",
      "3  //s3.amazonaws.com/donovanbailey/products/api_...   \n",
      "4  //s3.amazonaws.com/donovanbailey/products/api_...   \n",
      "\n",
      "                                      product_colors  \n",
      "0                                                 []  \n",
      "1  [{'hex_value': '#CF9978', 'colour_name': 'Medi...  \n",
      "2  [{'hex_value': '#9B7163', 'colour_name': None}...  \n",
      "3                                                 []  \n",
      "4                                                 []  \n"
     ]
    }
   ],
   "source": [
    "print(mkp.json())\n",
    "mkp_df = pd.DataFrame.from_dict(mkp.json())\n",
    "print(mkp_df.head())"
   ]
  },
  {
   "cell_type": "markdown",
   "id": "6cc82f49-a3eb-4798-8797-aca6a9007a73",
   "metadata": {},
   "source": [
    "4. Check the data type of all columns in the DataFrame. The `price` variable is stored as a string, but it should be a numeric variable. Convert it to numeric."
   ]
  },
  {
   "cell_type": "code",
   "execution_count": 146,
   "id": "316e2812-7df7-41ed-85a3-89709a4d0478",
   "metadata": {},
   "outputs": [
    {
     "name": "stdout",
     "output_type": "stream",
     "text": [
      "<class 'pandas.core.frame.DataFrame'>\n",
      "RangeIndex: 54 entries, 0 to 53\n",
      "Data columns (total 19 columns):\n",
      " #   Column              Non-Null Count  Dtype  \n",
      "---  ------              --------------  -----  \n",
      " 0   id                  54 non-null     int64  \n",
      " 1   brand               54 non-null     object \n",
      " 2   name                54 non-null     object \n",
      " 3   price               54 non-null     object \n",
      " 4   price_sign          0 non-null      object \n",
      " 5   currency            0 non-null      object \n",
      " 6   image_link          54 non-null     object \n",
      " 7   product_link        54 non-null     object \n",
      " 8   website_link        54 non-null     object \n",
      " 9   description         54 non-null     object \n",
      " 10  rating              46 non-null     float64\n",
      " 11  category            31 non-null     object \n",
      " 12  product_type        54 non-null     object \n",
      " 13  tag_list            54 non-null     object \n",
      " 14  created_at          54 non-null     object \n",
      " 15  updated_at          54 non-null     object \n",
      " 16  product_api_url     54 non-null     object \n",
      " 17  api_featured_image  54 non-null     object \n",
      " 18  product_colors      54 non-null     object \n",
      "dtypes: float64(1), int64(1), object(17)\n",
      "memory usage: 8.1+ KB\n",
      "None\n"
     ]
    }
   ],
   "source": [
    "print(mkp_df.info())"
   ]
  },
  {
   "cell_type": "code",
   "execution_count": 147,
   "id": "7cb359bf-f18d-4f76-ae47-8c585acddb30",
   "metadata": {},
   "outputs": [
    {
     "name": "stdout",
     "output_type": "stream",
     "text": [
      "object before conversions\n",
      "float64 after conversion\n"
     ]
    }
   ],
   "source": [
    "print(mkp_df[\"price\"].dtype, \"before conversions\")\n",
    "mkp_df[\"price\"] = pd.to_numeric(mkp_df[\"price\"])\n",
    "print(mkp_df[\"price\"].dtype, \"after conversion\")"
   ]
  },
  {
   "cell_type": "markdown",
   "id": "6504c403-25ba-4383-927f-5e4dc159fde7",
   "metadata": {},
   "source": [
    "5. Create a new DataFrame named `mkp_df_group` where you group all the `product_type`s and show their average price and rating. "
   ]
  },
  {
   "cell_type": "code",
   "execution_count": 148,
   "id": "f5daaad6-5757-4587-9daa-1faa34e2cf5a",
   "metadata": {},
   "outputs": [
    {
     "name": "stdout",
     "output_type": "stream",
     "text": [
      "                  price    rating\n",
      "product_type                     \n",
      "blush         13.065000  4.766667\n",
      "bronzer       13.756667  4.750000\n",
      "eyeliner       9.940000  4.233333\n",
      "eyeshadow     11.847143  3.757143\n",
      "foundation    14.080000  3.877778\n",
      "lip_liner      8.290000  3.500000\n",
      "lipstick      10.704286  4.400000\n",
      "mascara        9.817273  4.160000\n",
      "nail_polish    4.490000  3.433333\n"
     ]
    }
   ],
   "source": [
    "mkp_df_group = mkp_df[[\"product_type\", \"price\", \"rating\"]].groupby(by=\"product_type\").mean()\n",
    "print(mkp_df_group)"
   ]
  },
  {
   "cell_type": "markdown",
   "id": "879fa2f7-0d78-4c77-9b8d-e0585d392127",
   "metadata": {},
   "source": [
    "6. Create a scatterplot where you show the relationship between the `price` (on the x-axis) and the `rating` (on the y-axis) variables. "
   ]
  },
  {
   "cell_type": "code",
   "execution_count": 149,
   "id": "f02b4837-f00a-4f41-8eff-d4b69b2664cd",
   "metadata": {},
   "outputs": [
    {
     "data": {
      "image/png": "[encoded data removed]",
      "text/plain": [
       "<Figure size 640x480 with 1 Axes>"
      ]
     },
     "metadata": {},
     "output_type": "display_data"
    }
   ],
   "source": [
    "plot = sns.scatterplot(mkp_df_group, x=\"rating\", y=\"price\", hue=\"product_type\")\n",
    "plot.set_title(\"rating over price for different product groups\")\n",
    "plot.set_xlim([0, 5])\n",
    "plot.set_ylim([0,mkp_df_group[\"price\"].max()+1])\n",
    "plot.set_ylabel(\"price (USD)\")\n",
    "plot.grid(True)"
   ]
  },
  {
   "cell_type": "markdown",
   "id": "b34b8a2b-6a9b-4dd9-b13d-dfd364817afd",
   "metadata": {},
   "source": [
    "7. If you were to speak to the product department, which of these products would you recommend them to focus on in order to improve the overall customer satisfaction, considering their value for money?"
   ]
  },
  {
   "cell_type": "markdown",
   "id": "370c3cdf",
   "metadata": {},
   "source": [
    "Either nail polish or lip liner, depending on how marketing sees their target demographic, competition and production costs – 4 USD for a medium good nail polish could be a fair price, but 8 USD for a good lipliner might be a steal that attracts customers. both products offer the option to be produced in a variety of colours if the formula works / is being bought"
   ]
  },
  {
   "cell_type": "markdown",
   "id": "d6a9609a-ae46-4a27-8e7d-40eaeb1e0f7d",
   "metadata": {},
   "source": [
    "#### Advanced Exercises"
   ]
  },
  {
   "cell_type": "markdown",
   "id": "81573dda-b82c-4ca0-a447-10408c946927",
   "metadata": {},
   "source": [
    "1. Using an HTTP request to the City of Milan's API endpoint that you will find at [this web page](https://dati.comune.milano.it/dataset/ds411-rilevazione-qualita-aria-2022/resource/e1cc82ec-97bb-463c-a3fb-b61be60f0956), retrieve its data and save it to a DataFrame named `df`. *(hint: careful at the number or records you're retrieving, to be sure, set the limit parameter to be greater than the total number of rows available for that dataset)*"
   ]
  },
  {
   "cell_type": "code",
   "execution_count": 150,
   "id": "a35a5b51-019b-4a10-bfb7-a7dbf7b27c70",
   "metadata": {},
   "outputs": [
    {
     "data": {
      "text/plain": [
       "200"
      ]
     },
     "execution_count": 150,
     "metadata": {},
     "output_type": "execute_result"
    }
   ],
   "source": [
    "records_count = 10000\n",
    "response = requests.get(\"https://dati.comune.milano.it/api/3/action/datastore_search?resource_id=e1cc82ec-97bb-463c-a3fb-b61be60f0956&limit=\"+str(records_count))\n",
    "response.status_code"
   ]
  },
  {
   "cell_type": "code",
   "execution_count": 167,
   "id": "b702b2f8-0d55-4eed-a538-b58b68546513",
   "metadata": {},
   "outputs": [
    {
     "data": {
      "text/html": [
       "<div>\n",
       "<style scoped>\n",
       "    .dataframe tbody tr th:only-of-type {\n",
       "        vertical-align: middle;\n",
       "    }\n",
       "\n",
       "    .dataframe tbody tr th {\n",
       "        vertical-align: top;\n",
       "    }\n",
       "\n",
       "    .dataframe thead th {\n",
       "        text-align: right;\n",
       "    }\n",
       "</style>\n",
       "<table border=\"1\" class=\"dataframe\">\n",
       "  <thead>\n",
       "    <tr style=\"text-align: right;\">\n",
       "      <th></th>\n",
       "      <th>stazione_id</th>\n",
       "      <th>data</th>\n",
       "      <th>inquinante</th>\n",
       "      <th>valore</th>\n",
       "    </tr>\n",
       "    <tr>\n",
       "      <th>_id</th>\n",
       "      <th></th>\n",
       "      <th></th>\n",
       "      <th></th>\n",
       "      <th></th>\n",
       "    </tr>\n",
       "  </thead>\n",
       "  <tbody>\n",
       "    <tr>\n",
       "      <th>1</th>\n",
       "      <td>1</td>\n",
       "      <td>2022-12-30T00:00:00</td>\n",
       "      <td>NO2</td>\n",
       "      <td>NaN</td>\n",
       "    </tr>\n",
       "    <tr>\n",
       "      <th>2</th>\n",
       "      <td>2</td>\n",
       "      <td>2022-12-30T00:00:00</td>\n",
       "      <td>C6H6</td>\n",
       "      <td>2.7</td>\n",
       "    </tr>\n",
       "    <tr>\n",
       "      <th>3</th>\n",
       "      <td>2</td>\n",
       "      <td>2022-12-30T00:00:00</td>\n",
       "      <td>NO2</td>\n",
       "      <td>43.0</td>\n",
       "    </tr>\n",
       "    <tr>\n",
       "      <th>4</th>\n",
       "      <td>2</td>\n",
       "      <td>2022-12-30T00:00:00</td>\n",
       "      <td>O3</td>\n",
       "      <td>2.0</td>\n",
       "    </tr>\n",
       "    <tr>\n",
       "      <th>5</th>\n",
       "      <td>2</td>\n",
       "      <td>2022-12-30T00:00:00</td>\n",
       "      <td>PM10</td>\n",
       "      <td>56.0</td>\n",
       "    </tr>\n",
       "    <tr>\n",
       "      <th>...</th>\n",
       "      <td>...</td>\n",
       "      <td>...</td>\n",
       "      <td>...</td>\n",
       "      <td>...</td>\n",
       "    </tr>\n",
       "    <tr>\n",
       "      <th>6426</th>\n",
       "      <td>7</td>\n",
       "      <td>2022-01-03T00:00:00</td>\n",
       "      <td>O3</td>\n",
       "      <td>11.0</td>\n",
       "    </tr>\n",
       "    <tr>\n",
       "      <th>6427</th>\n",
       "      <td>7</td>\n",
       "      <td>2022-01-03T00:00:00</td>\n",
       "      <td>PM10</td>\n",
       "      <td>57.0</td>\n",
       "    </tr>\n",
       "    <tr>\n",
       "      <th>6428</th>\n",
       "      <td>8</td>\n",
       "      <td>2022-01-03T00:00:00</td>\n",
       "      <td>C6H6</td>\n",
       "      <td>NaN</td>\n",
       "    </tr>\n",
       "    <tr>\n",
       "      <th>6429</th>\n",
       "      <td>8</td>\n",
       "      <td>2022-01-03T00:00:00</td>\n",
       "      <td>CO_8h</td>\n",
       "      <td>NaN</td>\n",
       "    </tr>\n",
       "    <tr>\n",
       "      <th>6430</th>\n",
       "      <td>8</td>\n",
       "      <td>2022-01-03T00:00:00</td>\n",
       "      <td>NO2</td>\n",
       "      <td>NaN</td>\n",
       "    </tr>\n",
       "  </tbody>\n",
       "</table>\n",
       "<p>6430 rows × 4 columns</p>\n",
       "</div>"
      ],
      "text/plain": [
       "      stazione_id                 data inquinante  valore\n",
       "_id                                                      \n",
       "1               1  2022-12-30T00:00:00        NO2     NaN\n",
       "2               2  2022-12-30T00:00:00       C6H6     2.7\n",
       "3               2  2022-12-30T00:00:00        NO2    43.0\n",
       "4               2  2022-12-30T00:00:00         O3     2.0\n",
       "5               2  2022-12-30T00:00:00       PM10    56.0\n",
       "...           ...                  ...        ...     ...\n",
       "6426            7  2022-01-03T00:00:00         O3    11.0\n",
       "6427            7  2022-01-03T00:00:00       PM10    57.0\n",
       "6428            8  2022-01-03T00:00:00       C6H6     NaN\n",
       "6429            8  2022-01-03T00:00:00      CO_8h     NaN\n",
       "6430            8  2022-01-03T00:00:00        NO2     NaN\n",
       "\n",
       "[6430 rows x 4 columns]"
      ]
     },
     "execution_count": 167,
     "metadata": {},
     "output_type": "execute_result"
    }
   ],
   "source": [
    "data = response.json()\n",
    "df = pd.DataFrame.from_records(data[\"result\"][\"records\"], index=\"_id\")\n",
    "df"
   ]
  },
  {
   "cell_type": "markdown",
   "id": "70d64b53-6363-4ed0-992d-e38c6cdcd779",
   "metadata": {},
   "source": [
    "2. Check the data types for all the columns in the DataFrame. Then convert the `data` variable to a datetime with `format=\"%Y-%m-%d\"`. "
   ]
  },
  {
   "cell_type": "code",
   "execution_count": 168,
   "id": "64ca3064-06b9-4493-a480-0f6ca2f7a58f",
   "metadata": {},
   "outputs": [
    {
     "name": "stdout",
     "output_type": "stream",
     "text": [
      "<class 'pandas.core.frame.DataFrame'>\n",
      "Index: 6430 entries, 1 to 6430\n",
      "Data columns (total 4 columns):\n",
      " #   Column       Non-Null Count  Dtype  \n",
      "---  ------       --------------  -----  \n",
      " 0   stazione_id  6430 non-null   int64  \n",
      " 1   data         6430 non-null   object \n",
      " 2   inquinante   6430 non-null   object \n",
      " 3   valore       4628 non-null   float64\n",
      "dtypes: float64(1), int64(1), object(2)\n",
      "memory usage: 251.2+ KB\n",
      "None\n"
     ]
    }
   ],
   "source": [
    "print(df.info())"
   ]
  },
  {
   "cell_type": "code",
   "execution_count": 169,
   "id": "52699cde-c862-41a5-b1d1-83c8b7b51e58",
   "metadata": {},
   "outputs": [
    {
     "name": "stdout",
     "output_type": "stream",
     "text": [
      "<class 'pandas.core.frame.DataFrame'>\n",
      "Index: 6430 entries, 1 to 6430\n",
      "Data columns (total 4 columns):\n",
      " #   Column      Non-Null Count  Dtype         \n",
      "---  ------      --------------  -----         \n",
      " 0   station_id  6430 non-null   int64         \n",
      " 1   date        6430 non-null   datetime64[ns]\n",
      " 2   measure     6430 non-null   object        \n",
      " 3   value       4628 non-null   float64       \n",
      "dtypes: datetime64[ns](1), float64(1), int64(1), object(1)\n",
      "memory usage: 251.2+ KB\n",
      "None\n"
     ]
    }
   ],
   "source": [
    "df[\"data\"] = pd.to_datetime(df[\"data\"], format=\"mixed\")\n",
    "df.rename(columns={ \"data\": \"date\", \"stazione_id\": \"station_id\", \"inquinante\": \"measure\", \"valore\": \"value\" }, inplace=True)\n",
    "print(df.info())"
   ]
  },
  {
   "cell_type": "markdown",
   "id": "506488d2-6036-4e41-89ff-471024be3627",
   "metadata": {},
   "source": [
    "3. Create a new DataFrame named `df_pm10` which is a copy of `df` but contains data only for the **PM10** `inquinante`."
   ]
  },
  {
   "cell_type": "code",
   "execution_count": 170,
   "id": "4a29ac6a-3842-4129-bc8b-e7730f7e3892",
   "metadata": {},
   "outputs": [
    {
     "data": {
      "text/html": [
       "<div>\n",
       "<style scoped>\n",
       "    .dataframe tbody tr th:only-of-type {\n",
       "        vertical-align: middle;\n",
       "    }\n",
       "\n",
       "    .dataframe tbody tr th {\n",
       "        vertical-align: top;\n",
       "    }\n",
       "\n",
       "    .dataframe thead th {\n",
       "        text-align: right;\n",
       "    }\n",
       "</style>\n",
       "<table border=\"1\" class=\"dataframe\">\n",
       "  <thead>\n",
       "    <tr style=\"text-align: right;\">\n",
       "      <th></th>\n",
       "      <th>station_id</th>\n",
       "      <th>date</th>\n",
       "      <th>measure</th>\n",
       "      <th>value</th>\n",
       "    </tr>\n",
       "    <tr>\n",
       "      <th>_id</th>\n",
       "      <th></th>\n",
       "      <th></th>\n",
       "      <th></th>\n",
       "      <th></th>\n",
       "    </tr>\n",
       "  </thead>\n",
       "  <tbody>\n",
       "    <tr>\n",
       "      <th>5</th>\n",
       "      <td>2</td>\n",
       "      <td>2022-12-30</td>\n",
       "      <td>PM10</td>\n",
       "      <td>56.0</td>\n",
       "    </tr>\n",
       "    <tr>\n",
       "      <th>13</th>\n",
       "      <td>4</td>\n",
       "      <td>2022-12-30</td>\n",
       "      <td>PM10</td>\n",
       "      <td>66.0</td>\n",
       "    </tr>\n",
       "    <tr>\n",
       "      <th>20</th>\n",
       "      <td>6</td>\n",
       "      <td>2022-12-30</td>\n",
       "      <td>PM10</td>\n",
       "      <td>56.0</td>\n",
       "    </tr>\n",
       "    <tr>\n",
       "      <th>24</th>\n",
       "      <td>7</td>\n",
       "      <td>2022-12-30</td>\n",
       "      <td>PM10</td>\n",
       "      <td>47.0</td>\n",
       "    </tr>\n",
       "    <tr>\n",
       "      <th>32</th>\n",
       "      <td>2</td>\n",
       "      <td>2022-12-29</td>\n",
       "      <td>PM10</td>\n",
       "      <td>52.0</td>\n",
       "    </tr>\n",
       "  </tbody>\n",
       "</table>\n",
       "</div>"
      ],
      "text/plain": [
       "     station_id       date measure  value\n",
       "_id                                      \n",
       "5             2 2022-12-30    PM10   56.0\n",
       "13            4 2022-12-30    PM10   66.0\n",
       "20            6 2022-12-30    PM10   56.0\n",
       "24            7 2022-12-30    PM10   47.0\n",
       "32            2 2022-12-29    PM10   52.0"
      ]
     },
     "execution_count": 170,
     "metadata": {},
     "output_type": "execute_result"
    }
   ],
   "source": [
    "df_pm10 = df[df[\"measure\"] == \"PM10\"]\n",
    "df_pm10.head()"
   ]
  },
  {
   "cell_type": "markdown",
   "id": "8c144077-4b5e-453b-bba3-8ae3e9d6bd6e",
   "metadata": {},
   "source": [
    "4. Which day was the worst in terms of levels of the **PM10** `inquinante` in the City of Milan? How many grams per cubic meter (g/m3) were detected?"
   ]
  },
  {
   "cell_type": "code",
   "execution_count": 214,
   "id": "bebb7e7c-a0b7-4b6a-989d-8ff7c652f6c5",
   "metadata": {},
   "outputs": [
    {
     "name": "stdout",
     "output_type": "stream",
     "text": [
      "station_id                      6\n",
      "date          2022-01-14 00:00:00\n",
      "measure                      PM10\n",
      "value                       106.0\n",
      "month                           1\n",
      "Name: 6241, dtype: object\n"
     ]
    },
    {
     "name": "stderr",
     "output_type": "stream",
     "text": [
      "/var/folders/xj/lr3z9ff569d7srgh4sc80dr80000gq/T/ipykernel_86898/4184865080.py:1: SettingWithCopyWarning: \n",
      "A value is trying to be set on a copy of a slice from a DataFrame\n",
      "\n",
      "See the caveats in the documentation: https://pandas.pydata.org/pandas-docs/stable/user_guide/indexing.html#returning-a-view-versus-a-copy\n",
      "  df_pm10.sort_values(by=\"value\", ascending=False, inplace=True)\n"
     ]
    }
   ],
   "source": [
    "df_pm10.sort_values(by=\"value\", ascending=False, inplace=True)\n",
    "max_value = df_pm10.iloc[0]\n",
    "print(max_value)\n",
    "# 14th Jan 2022, 106 g/m3"
   ]
  },
  {
   "cell_type": "code",
   "execution_count": null,
   "id": "0f809cd9",
   "metadata": {},
   "outputs": [],
   "source": []
  },
  {
   "cell_type": "code",
   "execution_count": null,
   "id": "1c3693a1",
   "metadata": {},
   "outputs": [],
   "source": []
  },
  {
   "cell_type": "markdown",
   "id": "39f12d5e-8411-44c8-b697-8bb4ccc88d8b",
   "metadata": {},
   "source": [
    "5. Add a new column named `month` to the `df_pm10` DataFrame where you extract the month date-part from the `date` variable. "
   ]
  },
  {
   "cell_type": "code",
   "execution_count": 175,
   "id": "482a6294-21c7-441a-b8e5-92bae88ad0f8",
   "metadata": {},
   "outputs": [
    {
     "name": "stderr",
     "output_type": "stream",
     "text": [
      "/var/folders/xj/lr3z9ff569d7srgh4sc80dr80000gq/T/ipykernel_86898/364807105.py:1: SettingWithCopyWarning: \n",
      "A value is trying to be set on a copy of a slice from a DataFrame.\n",
      "Try using .loc[row_indexer,col_indexer] = value instead\n",
      "\n",
      "See the caveats in the documentation: https://pandas.pydata.org/pandas-docs/stable/user_guide/indexing.html#returning-a-view-versus-a-copy\n",
      "  df_pm10[\"month\"] = df[\"date\"].dt.month\n"
     ]
    },
    {
     "data": {
      "text/html": [
       "<div>\n",
       "<style scoped>\n",
       "    .dataframe tbody tr th:only-of-type {\n",
       "        vertical-align: middle;\n",
       "    }\n",
       "\n",
       "    .dataframe tbody tr th {\n",
       "        vertical-align: top;\n",
       "    }\n",
       "\n",
       "    .dataframe thead th {\n",
       "        text-align: right;\n",
       "    }\n",
       "</style>\n",
       "<table border=\"1\" class=\"dataframe\">\n",
       "  <thead>\n",
       "    <tr style=\"text-align: right;\">\n",
       "      <th></th>\n",
       "      <th>station_id</th>\n",
       "      <th>date</th>\n",
       "      <th>measure</th>\n",
       "      <th>value</th>\n",
       "      <th>month</th>\n",
       "    </tr>\n",
       "    <tr>\n",
       "      <th>_id</th>\n",
       "      <th></th>\n",
       "      <th></th>\n",
       "      <th></th>\n",
       "      <th></th>\n",
       "      <th></th>\n",
       "    </tr>\n",
       "  </thead>\n",
       "  <tbody>\n",
       "    <tr>\n",
       "      <th>6241</th>\n",
       "      <td>6</td>\n",
       "      <td>2022-01-14</td>\n",
       "      <td>PM10</td>\n",
       "      <td>106.0</td>\n",
       "      <td>1</td>\n",
       "    </tr>\n",
       "    <tr>\n",
       "      <th>6293</th>\n",
       "      <td>6</td>\n",
       "      <td>2022-01-12</td>\n",
       "      <td>PM10</td>\n",
       "      <td>100.0</td>\n",
       "      <td>1</td>\n",
       "    </tr>\n",
       "    <tr>\n",
       "      <th>5075</th>\n",
       "      <td>7</td>\n",
       "      <td>2022-03-18</td>\n",
       "      <td>PM10</td>\n",
       "      <td>97.0</td>\n",
       "      <td>3</td>\n",
       "    </tr>\n",
       "    <tr>\n",
       "      <th>5819</th>\n",
       "      <td>4</td>\n",
       "      <td>2022-02-07</td>\n",
       "      <td>PM10</td>\n",
       "      <td>96.0</td>\n",
       "      <td>2</td>\n",
       "    </tr>\n",
       "    <tr>\n",
       "      <th>6053</th>\n",
       "      <td>4</td>\n",
       "      <td>2022-01-25</td>\n",
       "      <td>PM10</td>\n",
       "      <td>90.0</td>\n",
       "      <td>1</td>\n",
       "    </tr>\n",
       "  </tbody>\n",
       "</table>\n",
       "</div>"
      ],
      "text/plain": [
       "      station_id       date measure  value  month\n",
       "_id                                              \n",
       "6241           6 2022-01-14    PM10  106.0      1\n",
       "6293           6 2022-01-12    PM10  100.0      1\n",
       "5075           7 2022-03-18    PM10   97.0      3\n",
       "5819           4 2022-02-07    PM10   96.0      2\n",
       "6053           4 2022-01-25    PM10   90.0      1"
      ]
     },
     "execution_count": 175,
     "metadata": {},
     "output_type": "execute_result"
    }
   ],
   "source": [
    "df_pm10[\"month\"] = df[\"date\"].dt.month\n",
    "df_pm10.head()"
   ]
  },
  {
   "cell_type": "markdown",
   "id": "2d5ae301-10f2-439c-bd5e-2177d5e98987",
   "metadata": {},
   "source": [
    "6. Using the `df_pm10` DataFrame, produce a table that groups all the `months` available in the dataset (by row) and shows (for each month), the following aggregations for the column `valore`: ['min', 'mean', 'max']. "
   ]
  },
  {
   "cell_type": "code",
   "execution_count": 185,
   "id": "6c6ddd96-1ccc-4c40-b889-fe5cbe881ebf",
   "metadata": {},
   "outputs": [
    {
     "data": {
      "text/html": [
       "<div>\n",
       "<style scoped>\n",
       "    .dataframe tbody tr th:only-of-type {\n",
       "        vertical-align: middle;\n",
       "    }\n",
       "\n",
       "    .dataframe tbody tr th {\n",
       "        vertical-align: top;\n",
       "    }\n",
       "\n",
       "    .dataframe thead tr th {\n",
       "        text-align: left;\n",
       "    }\n",
       "\n",
       "    .dataframe thead tr:last-of-type th {\n",
       "        text-align: right;\n",
       "    }\n",
       "</style>\n",
       "<table border=\"1\" class=\"dataframe\">\n",
       "  <thead>\n",
       "    <tr>\n",
       "      <th></th>\n",
       "      <th colspan=\"3\" halign=\"left\">value</th>\n",
       "    </tr>\n",
       "    <tr>\n",
       "      <th></th>\n",
       "      <th>min</th>\n",
       "      <th>mean</th>\n",
       "      <th>max</th>\n",
       "    </tr>\n",
       "    <tr>\n",
       "      <th>month</th>\n",
       "      <th></th>\n",
       "      <th></th>\n",
       "      <th></th>\n",
       "    </tr>\n",
       "  </thead>\n",
       "  <tbody>\n",
       "    <tr>\n",
       "      <th>1</th>\n",
       "      <td>35.0</td>\n",
       "      <td>64.027027</td>\n",
       "      <td>106.0</td>\n",
       "    </tr>\n",
       "    <tr>\n",
       "      <th>2</th>\n",
       "      <td>7.0</td>\n",
       "      <td>41.253165</td>\n",
       "      <td>96.0</td>\n",
       "    </tr>\n",
       "    <tr>\n",
       "      <th>3</th>\n",
       "      <td>21.0</td>\n",
       "      <td>46.728261</td>\n",
       "      <td>97.0</td>\n",
       "    </tr>\n",
       "    <tr>\n",
       "      <th>4</th>\n",
       "      <td>8.0</td>\n",
       "      <td>25.985507</td>\n",
       "      <td>53.0</td>\n",
       "    </tr>\n",
       "    <tr>\n",
       "      <th>5</th>\n",
       "      <td>10.0</td>\n",
       "      <td>24.416667</td>\n",
       "      <td>41.0</td>\n",
       "    </tr>\n",
       "    <tr>\n",
       "      <th>6</th>\n",
       "      <td>10.0</td>\n",
       "      <td>28.044118</td>\n",
       "      <td>45.0</td>\n",
       "    </tr>\n",
       "    <tr>\n",
       "      <th>7</th>\n",
       "      <td>12.0</td>\n",
       "      <td>24.257143</td>\n",
       "      <td>45.0</td>\n",
       "    </tr>\n",
       "    <tr>\n",
       "      <th>8</th>\n",
       "      <td>8.0</td>\n",
       "      <td>17.135593</td>\n",
       "      <td>41.0</td>\n",
       "    </tr>\n",
       "    <tr>\n",
       "      <th>9</th>\n",
       "      <td>8.0</td>\n",
       "      <td>20.379310</td>\n",
       "      <td>35.0</td>\n",
       "    </tr>\n",
       "    <tr>\n",
       "      <th>10</th>\n",
       "      <td>15.0</td>\n",
       "      <td>44.894737</td>\n",
       "      <td>80.0</td>\n",
       "    </tr>\n",
       "    <tr>\n",
       "      <th>11</th>\n",
       "      <td>15.0</td>\n",
       "      <td>33.878049</td>\n",
       "      <td>50.0</td>\n",
       "    </tr>\n",
       "    <tr>\n",
       "      <th>12</th>\n",
       "      <td>10.0</td>\n",
       "      <td>41.774648</td>\n",
       "      <td>66.0</td>\n",
       "    </tr>\n",
       "  </tbody>\n",
       "</table>\n",
       "</div>"
      ],
      "text/plain": [
       "      value                  \n",
       "        min       mean    max\n",
       "month                        \n",
       "1      35.0  64.027027  106.0\n",
       "2       7.0  41.253165   96.0\n",
       "3      21.0  46.728261   97.0\n",
       "4       8.0  25.985507   53.0\n",
       "5      10.0  24.416667   41.0\n",
       "6      10.0  28.044118   45.0\n",
       "7      12.0  24.257143   45.0\n",
       "8       8.0  17.135593   41.0\n",
       "9       8.0  20.379310   35.0\n",
       "10     15.0  44.894737   80.0\n",
       "11     15.0  33.878049   50.0\n",
       "12     10.0  41.774648   66.0"
      ]
     },
     "execution_count": 185,
     "metadata": {},
     "output_type": "execute_result"
    }
   ],
   "source": [
    "df_pm10_by_month = df_pm10.groupby(by=\"month\").agg({\"value\": [\"min\",\"mean\",\"max\"]})\n",
    "df_pm10_by_month"
   ]
  },
  {
   "cell_type": "markdown",
   "id": "a783bf9e-b73c-4481-9a8d-d9081d3c3558",
   "metadata": {},
   "source": [
    "7. Using the `df_pm10` DataFrame, plot a time series showing the `valore` of **PM10** for each `stazione_id` *(hint: each stazione_id will have a different line with a different color)*."
   ]
  },
  {
   "cell_type": "code",
   "execution_count": 195,
   "id": "325ebaa5-07cd-47c4-aa03-91d7f0949ff0",
   "metadata": {},
   "outputs": [
    {
     "data": {
      "image/png": "[encoded data removed]",
      "text/plain": [
       "<Figure size 640x480 with 1 Axes>"
      ]
     },
     "metadata": {},
     "output_type": "display_data"
    }
   ],
   "source": [
    "plot = sns.lineplot(df_pm10, x=\"date\", y=\"value\", hue=\"station_id\")"
   ]
  },
  {
   "cell_type": "markdown",
   "id": "6ee180b9-6a4d-4b18-b115-286945a282f5",
   "metadata": {},
   "source": [
    "8. Using an HTTP request to the City of Milan's API endpoint that you will find at [this web page](https://dati.comune.milano.it/dataset/ds484_stazioni_di_monitoraggio_inquinanti_atmosferici_dellarpa_sit/resource/b301f327-7504-4efc-8b4a-5f4a29f9d0ff), retrieve its data and save it to a DataFrame named `stations`. "
   ]
  },
  {
   "cell_type": "code",
   "execution_count": 198,
   "id": "afb1ee38-2ea5-496f-a1c8-33ee2302b4f4",
   "metadata": {},
   "outputs": [
    {
     "name": "stdout",
     "output_type": "stream",
     "text": [
      "200 {'help': 'https://dati.comune.milano.it/api/3/action/help_show?name=datastore_search', 'success': True, 'result': {'include_total': True, 'resource_id': 'b301f327-7504-4efc-8b4a-5f4a29f9d0ff', 'fields': [{'type': 'int', 'id': '_id'}, {'type': 'numeric', 'id': 'id_amat'}, {'type': 'text', 'id': 'nome'}, {'type': 'numeric', 'id': 'id_arpa'}, {'type': 'timestamp', 'id': 'inizio_operativita'}, {'type': 'timestamp', 'id': 'fine_operativita'}, {'type': 'text', 'id': 'inquinanti'}, {'type': 'numeric', 'id': 'LONG_X_4326'}, {'type': 'numeric', 'id': 'LAT_Y_4326'}, {'type': 'text', 'id': 'Location'}], 'records_format': 'objects', 'records': [{'_id': 1, 'id_amat': 1, 'nome': 'p.le Abbiategrasso', 'id_arpa': 126, 'inizio_operativita': '1900-01-01T00:00:00', 'fine_operativita': '2017-08-31T00:00:00', 'inquinanti': 'NO2', 'LONG_X_4326': 9.18218994140625, 'LAT_Y_4326': 45.432300567627, 'Location': '(45.432300567627, 9.18218994140625)'}, {'_id': 2, 'id_amat': 2, 'nome': 'via Pascal *', 'id_arpa': 100, 'inizio_operativita': '1900-01-01T00:00:00', 'fine_operativita': '2099-12-31T00:00:00', 'inquinanti': 'NO2, SO2, PM25, SO2, O3, PM10, C6H6', 'LONG_X_4326': 9.23478031158447, 'LAT_Y_4326': 45.4740982055664, 'Location': '(45.4740982055664, 9.23478031158447)'}, {'_id': 3, 'id_amat': 3, 'nome': 'viale Liguria', 'id_arpa': 107, 'inizio_operativita': '1900-01-01T00:00:00', 'fine_operativita': '2099-12-31T00:00:00', 'inquinanti': 'NO2, CO_8h', 'LONG_X_4326': 9.16944026947021, 'LAT_Y_4326': 45.4441986083984, 'Location': '(45.4441986083984, 9.16944026947021)'}, {'_id': 4, 'id_amat': 4, 'nome': 'viale Marche', 'id_arpa': 2, 'inizio_operativita': '1900-01-01T00:00:00', 'fine_operativita': '2099-12-31T00:00:00', 'inquinanti': 'C6H6, CO_8h, PM25, PM10, NO2', 'LONG_X_4326': 9.19083976745605, 'LAT_Y_4326': 45.4962997436523, 'Location': '(45.4962997436523, 9.19083976745605)'}, {'_id': 5, 'id_amat': 5, 'nome': 'Parco Lambro', 'id_arpa': 124, 'inizio_operativita': '1900-01-01T00:00:00', 'fine_operativita': '2017-08-31T00:00:00', 'inquinanti': 'NO2, O3', 'LONG_X_4326': 9.24730014801025, 'LAT_Y_4326': 45.4995994567871, 'Location': '(45.4995994567871, 9.24730014801025)'}, {'_id': 6, 'id_amat': 6, 'nome': 'via Senato *', 'id_arpa': 125, 'inizio_operativita': '1900-01-01T00:00:00', 'fine_operativita': '2099-12-31T00:00:00', 'inquinanti': 'PM25, PM10, C6H6, CO_8h, NO2', 'LONG_X_4326': 9.19791984558105, 'LAT_Y_4326': 45.4705009460449, 'Location': '(45.4705009460449, 9.19791984558105)'}, {'_id': 7, 'id_amat': 7, 'nome': 'Verziere', 'id_arpa': 85, 'inizio_operativita': '1900-01-01T00:00:00', 'fine_operativita': '2099-12-31T00:00:00', 'inquinanti': 'O3, PM10, NO2, CO_8h', 'LONG_X_4326': 9.19534015655518, 'LAT_Y_4326': 45.4635009765625, 'Location': '(45.4635009765625, 9.19534015655518)'}, {'_id': 8, 'id_amat': 8, 'nome': 'p.le Zavattari', 'id_arpa': 7, 'inizio_operativita': '1900-01-01T00:00:00', 'fine_operativita': '2017-08-31T00:00:00', 'inquinanti': 'CO_8h, NO2, C6H6', 'LONG_X_4326': 9.141770362854, 'LAT_Y_4326': 45.4761009216309, 'Location': '(45.4761009216309, 9.141770362854)'}, {'_id': 9, 'id_amat': 9, 'nome': 'via Juvara', 'id_arpa': 7, 'inizio_operativita': '1900-01-01T00:00:00', 'fine_operativita': '2007-06-11T00:00:00', 'inquinanti': 'SO2, SO2, NO2, O3, PM10, PM25', 'LONG_X_4326': 9.22045040130615, 'LAT_Y_4326': 45.4734992980957, 'Location': '(45.4734992980957, 9.22045040130615)'}], '_links': {'start': '/api/3/action/datastore_search?resource_id=b301f327-7504-4efc-8b4a-5f4a29f9d0ff', 'next': '/api/3/action/datastore_search?offset=100&resource_id=b301f327-7504-4efc-8b4a-5f4a29f9d0ff'}, 'total': 9}}\n"
     ]
    }
   ],
   "source": [
    "station_url = \"https://dati.comune.milano.it/api/3/action/datastore_search?resource_id=b301f327-7504-4efc-8b4a-5f4a29f9d0ff\"\n",
    "response = requests.get(station_url)\n",
    "print(response.status_code)"
   ]
  },
  {
   "cell_type": "code",
   "execution_count": 218,
   "id": "f4f8c33d-a57c-47d5-8223-c4db17ad48ed",
   "metadata": {},
   "outputs": [
    {
     "data": {
      "text/html": [
       "<div>\n",
       "<style scoped>\n",
       "    .dataframe tbody tr th:only-of-type {\n",
       "        vertical-align: middle;\n",
       "    }\n",
       "\n",
       "    .dataframe tbody tr th {\n",
       "        vertical-align: top;\n",
       "    }\n",
       "\n",
       "    .dataframe thead th {\n",
       "        text-align: right;\n",
       "    }\n",
       "</style>\n",
       "<table border=\"1\" class=\"dataframe\">\n",
       "  <thead>\n",
       "    <tr style=\"text-align: right;\">\n",
       "      <th></th>\n",
       "      <th>id_amat</th>\n",
       "      <th>nome</th>\n",
       "      <th>id_arpa</th>\n",
       "      <th>inizio_operativita</th>\n",
       "      <th>fine_operativita</th>\n",
       "      <th>inquinanti</th>\n",
       "      <th>LONG_X_4326</th>\n",
       "      <th>LAT_Y_4326</th>\n",
       "      <th>Location</th>\n",
       "    </tr>\n",
       "    <tr>\n",
       "      <th>_id</th>\n",
       "      <th></th>\n",
       "      <th></th>\n",
       "      <th></th>\n",
       "      <th></th>\n",
       "      <th></th>\n",
       "      <th></th>\n",
       "      <th></th>\n",
       "      <th></th>\n",
       "      <th></th>\n",
       "    </tr>\n",
       "  </thead>\n",
       "  <tbody>\n",
       "    <tr>\n",
       "      <th>1</th>\n",
       "      <td>1</td>\n",
       "      <td>p.le Abbiategrasso</td>\n",
       "      <td>126</td>\n",
       "      <td>1900-01-01T00:00:00</td>\n",
       "      <td>2017-08-31T00:00:00</td>\n",
       "      <td>NO2</td>\n",
       "      <td>9.18219</td>\n",
       "      <td>45.432301</td>\n",
       "      <td>(45.432300567627, 9.18218994140625)</td>\n",
       "    </tr>\n",
       "    <tr>\n",
       "      <th>2</th>\n",
       "      <td>2</td>\n",
       "      <td>via Pascal *</td>\n",
       "      <td>100</td>\n",
       "      <td>1900-01-01T00:00:00</td>\n",
       "      <td>2099-12-31T00:00:00</td>\n",
       "      <td>NO2, SO2, PM25, SO2, O3, PM10, C6H6</td>\n",
       "      <td>9.23478</td>\n",
       "      <td>45.474098</td>\n",
       "      <td>(45.4740982055664, 9.23478031158447)</td>\n",
       "    </tr>\n",
       "    <tr>\n",
       "      <th>3</th>\n",
       "      <td>3</td>\n",
       "      <td>viale Liguria</td>\n",
       "      <td>107</td>\n",
       "      <td>1900-01-01T00:00:00</td>\n",
       "      <td>2099-12-31T00:00:00</td>\n",
       "      <td>NO2, CO_8h</td>\n",
       "      <td>9.16944</td>\n",
       "      <td>45.444199</td>\n",
       "      <td>(45.4441986083984, 9.16944026947021)</td>\n",
       "    </tr>\n",
       "    <tr>\n",
       "      <th>4</th>\n",
       "      <td>4</td>\n",
       "      <td>viale Marche</td>\n",
       "      <td>2</td>\n",
       "      <td>1900-01-01T00:00:00</td>\n",
       "      <td>2099-12-31T00:00:00</td>\n",
       "      <td>C6H6, CO_8h, PM25, PM10, NO2</td>\n",
       "      <td>9.19084</td>\n",
       "      <td>45.496300</td>\n",
       "      <td>(45.4962997436523, 9.19083976745605)</td>\n",
       "    </tr>\n",
       "    <tr>\n",
       "      <th>5</th>\n",
       "      <td>5</td>\n",
       "      <td>Parco Lambro</td>\n",
       "      <td>124</td>\n",
       "      <td>1900-01-01T00:00:00</td>\n",
       "      <td>2017-08-31T00:00:00</td>\n",
       "      <td>NO2, O3</td>\n",
       "      <td>9.24730</td>\n",
       "      <td>45.499599</td>\n",
       "      <td>(45.4995994567871, 9.24730014801025)</td>\n",
       "    </tr>\n",
       "    <tr>\n",
       "      <th>6</th>\n",
       "      <td>6</td>\n",
       "      <td>via Senato *</td>\n",
       "      <td>125</td>\n",
       "      <td>1900-01-01T00:00:00</td>\n",
       "      <td>2099-12-31T00:00:00</td>\n",
       "      <td>PM25, PM10, C6H6, CO_8h, NO2</td>\n",
       "      <td>9.19792</td>\n",
       "      <td>45.470501</td>\n",
       "      <td>(45.4705009460449, 9.19791984558105)</td>\n",
       "    </tr>\n",
       "    <tr>\n",
       "      <th>7</th>\n",
       "      <td>7</td>\n",
       "      <td>Verziere</td>\n",
       "      <td>85</td>\n",
       "      <td>1900-01-01T00:00:00</td>\n",
       "      <td>2099-12-31T00:00:00</td>\n",
       "      <td>O3, PM10, NO2, CO_8h</td>\n",
       "      <td>9.19534</td>\n",
       "      <td>45.463501</td>\n",
       "      <td>(45.4635009765625, 9.19534015655518)</td>\n",
       "    </tr>\n",
       "    <tr>\n",
       "      <th>8</th>\n",
       "      <td>8</td>\n",
       "      <td>p.le Zavattari</td>\n",
       "      <td>7</td>\n",
       "      <td>1900-01-01T00:00:00</td>\n",
       "      <td>2017-08-31T00:00:00</td>\n",
       "      <td>CO_8h, NO2, C6H6</td>\n",
       "      <td>9.14177</td>\n",
       "      <td>45.476101</td>\n",
       "      <td>(45.4761009216309, 9.141770362854)</td>\n",
       "    </tr>\n",
       "    <tr>\n",
       "      <th>9</th>\n",
       "      <td>9</td>\n",
       "      <td>via Juvara</td>\n",
       "      <td>7</td>\n",
       "      <td>1900-01-01T00:00:00</td>\n",
       "      <td>2007-06-11T00:00:00</td>\n",
       "      <td>SO2, SO2, NO2, O3, PM10, PM25</td>\n",
       "      <td>9.22045</td>\n",
       "      <td>45.473499</td>\n",
       "      <td>(45.4734992980957, 9.22045040130615)</td>\n",
       "    </tr>\n",
       "  </tbody>\n",
       "</table>\n",
       "</div>"
      ],
      "text/plain": [
       "     id_amat                nome  id_arpa   inizio_operativita  \\\n",
       "_id                                                              \n",
       "1          1  p.le Abbiategrasso      126  1900-01-01T00:00:00   \n",
       "2          2        via Pascal *      100  1900-01-01T00:00:00   \n",
       "3          3       viale Liguria      107  1900-01-01T00:00:00   \n",
       "4          4        viale Marche        2  1900-01-01T00:00:00   \n",
       "5          5        Parco Lambro      124  1900-01-01T00:00:00   \n",
       "6          6        via Senato *      125  1900-01-01T00:00:00   \n",
       "7          7            Verziere       85  1900-01-01T00:00:00   \n",
       "8          8      p.le Zavattari        7  1900-01-01T00:00:00   \n",
       "9          9          via Juvara        7  1900-01-01T00:00:00   \n",
       "\n",
       "        fine_operativita                           inquinanti  LONG_X_4326  \\\n",
       "_id                                                                          \n",
       "1    2017-08-31T00:00:00                                  NO2      9.18219   \n",
       "2    2099-12-31T00:00:00  NO2, SO2, PM25, SO2, O3, PM10, C6H6      9.23478   \n",
       "3    2099-12-31T00:00:00                           NO2, CO_8h      9.16944   \n",
       "4    2099-12-31T00:00:00         C6H6, CO_8h, PM25, PM10, NO2      9.19084   \n",
       "5    2017-08-31T00:00:00                              NO2, O3      9.24730   \n",
       "6    2099-12-31T00:00:00         PM25, PM10, C6H6, CO_8h, NO2      9.19792   \n",
       "7    2099-12-31T00:00:00                 O3, PM10, NO2, CO_8h      9.19534   \n",
       "8    2017-08-31T00:00:00                     CO_8h, NO2, C6H6      9.14177   \n",
       "9    2007-06-11T00:00:00        SO2, SO2, NO2, O3, PM10, PM25      9.22045   \n",
       "\n",
       "     LAT_Y_4326                              Location  \n",
       "_id                                                    \n",
       "1     45.432301   (45.432300567627, 9.18218994140625)  \n",
       "2     45.474098  (45.4740982055664, 9.23478031158447)  \n",
       "3     45.444199  (45.4441986083984, 9.16944026947021)  \n",
       "4     45.496300  (45.4962997436523, 9.19083976745605)  \n",
       "5     45.499599  (45.4995994567871, 9.24730014801025)  \n",
       "6     45.470501  (45.4705009460449, 9.19791984558105)  \n",
       "7     45.463501  (45.4635009765625, 9.19534015655518)  \n",
       "8     45.476101    (45.4761009216309, 9.141770362854)  \n",
       "9     45.473499  (45.4734992980957, 9.22045040130615)  "
      ]
     },
     "execution_count": 218,
     "metadata": {},
     "output_type": "execute_result"
    }
   ],
   "source": [
    "body = response.json()\n",
    "df_stations = pd.DataFrame.from_records(body[\"result\"][\"records\"], index=\"_id\")\n",
    "df_stations"
   ]
  },
  {
   "cell_type": "markdown",
   "id": "67502f24-4245-4941-911b-9bab5b60de77",
   "metadata": {},
   "source": [
    "9. Which station's `nome` is the one that recorded the highest levels of **PM10** as recorded in the `df_pm10` DataFrame?"
   ]
  },
  {
   "cell_type": "code",
   "execution_count": 216,
   "id": "3a18f8a5-8221-4b66-aa7e-123407ca5e54",
   "metadata": {},
   "outputs": [
    {
     "data": {
      "text/plain": [
       "6"
      ]
     },
     "execution_count": 216,
     "metadata": {},
     "output_type": "execute_result"
    }
   ],
   "source": [
    "id_of_needed_station = max_value[\"station_id\"]\n",
    "id_of_needed_station"
   ]
  },
  {
   "cell_type": "code",
   "execution_count": 220,
   "id": "0ddf6ab5-8745-4621-b2e0-9bd67f168ca3",
   "metadata": {},
   "outputs": [
    {
     "data": {
      "text/plain": [
       "'via Senato *'"
      ]
     },
     "execution_count": 220,
     "metadata": {},
     "output_type": "execute_result"
    }
   ],
   "source": [
    "df_stations.loc[id_of_needed_station][\"nome\"]"
   ]
  }
 ],
 "metadata": {
  "kernelspec": {
   "display_name": "Python 3 (ipykernel)",
   "language": "python",
   "name": "python3"
  },
  "language_info": {
   "codemirror_mode": {
    "name": "ipython",
    "version": 3
   },
   "file_extension": ".py",
   "mimetype": "text/x-python",
   "name": "python",
   "nbconvert_exporter": "python",
   "pygments_lexer": "ipython3",
   "version": "3.12.4"
  }
 },
 "nbformat": 4,
 "nbformat_minor": 5
}
